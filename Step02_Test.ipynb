{
 "cells": [
  {
   "cell_type": "code",
   "execution_count": 3,
   "id": "d2d43896",
   "metadata": {},
   "outputs": [
    {
     "name": "stderr",
     "output_type": "stream",
     "text": [
      "Loading required package: lme4\n",
      "\n",
      "Loading required package: Matrix\n",
      "\n",
      "\n",
      "Attaching package: 'lmerTest'\n",
      "\n",
      "\n",
      "The following object is masked from 'package:lme4':\n",
      "\n",
      "    lmer\n",
      "\n",
      "\n",
      "The following object is masked from 'package:stats':\n",
      "\n",
      "    step\n",
      "\n",
      "\n",
      "Warning message:\n",
      "\"package 'tidyverse' was built under R version 4.2.1\"\n",
      "── \u001b[1mAttaching packages\u001b[22m ─────────────────────────────────────────────────────────────────────────────── tidyverse 1.3.2 ──\n",
      "\u001b[32m✔\u001b[39m \u001b[34mggplot2\u001b[39m 3.3.6     \u001b[32m✔\u001b[39m \u001b[34mpurrr  \u001b[39m 0.3.4\n",
      "\u001b[32m✔\u001b[39m \u001b[34mtibble \u001b[39m 3.1.7     \u001b[32m✔\u001b[39m \u001b[34mdplyr  \u001b[39m 1.0.9\n",
      "\u001b[32m✔\u001b[39m \u001b[34mtidyr  \u001b[39m 1.2.0     \u001b[32m✔\u001b[39m \u001b[34mstringr\u001b[39m 1.4.0\n",
      "\u001b[32m✔\u001b[39m \u001b[34mreadr  \u001b[39m 2.1.2     \u001b[32m✔\u001b[39m \u001b[34mforcats\u001b[39m 0.5.1\n",
      "── \u001b[1mConflicts\u001b[22m ────────────────────────────────────────────────────────────────────────────────── tidyverse_conflicts() ──\n",
      "\u001b[31m✖\u001b[39m \u001b[34mtidyr\u001b[39m::\u001b[32mexpand()\u001b[39m masks \u001b[34mMatrix\u001b[39m::expand()\n",
      "\u001b[31m✖\u001b[39m \u001b[34mdplyr\u001b[39m::\u001b[32mfilter()\u001b[39m masks \u001b[34mstats\u001b[39m::filter()\n",
      "\u001b[31m✖\u001b[39m \u001b[34mdplyr\u001b[39m::\u001b[32mlag()\u001b[39m    masks \u001b[34mstats\u001b[39m::lag()\n",
      "\u001b[31m✖\u001b[39m \u001b[34mtidyr\u001b[39m::\u001b[32mpack()\u001b[39m   masks \u001b[34mMatrix\u001b[39m::pack()\n",
      "\u001b[31m✖\u001b[39m \u001b[34mtidyr\u001b[39m::\u001b[32munpack()\u001b[39m masks \u001b[34mMatrix\u001b[39m::unpack()\n",
      "Warning message:\n",
      "\"package 'LMERConvenienceFunctions' was built under R version 4.2.1\"\n",
      "Warning message:\n",
      "\"package 'rstatix' was built under R version 4.2.1\"\n",
      "\n",
      "Attaching package: 'rstatix'\n",
      "\n",
      "\n",
      "The following object is masked from 'package:stats':\n",
      "\n",
      "    filter\n",
      "\n",
      "\n",
      "Warning message:\n",
      "\"package 'DescTools' was built under R version 4.2.1\"\n",
      "Warning message:\n",
      "\"package 'predictmeans' was built under R version 4.2.1\"\n",
      "Loading required package: nlme\n",
      "\n",
      "Warning message:\n",
      "\"package 'nlme' was built under R version 4.2.1\"\n",
      "\n",
      "Attaching package: 'nlme'\n",
      "\n",
      "\n",
      "The following object is masked from 'package:dplyr':\n",
      "\n",
      "    collapse\n",
      "\n",
      "\n",
      "The following object is masked from 'package:lme4':\n",
      "\n",
      "    lmList\n",
      "\n",
      "\n",
      "Loading required package: lmeInfo\n",
      "\n",
      "Warning message:\n",
      "\"package 'lmeInfo' was built under R version 4.2.1\"\n",
      "Loading required package: parallel\n",
      "\n",
      "Loading required package: carData\n",
      "\n",
      "lattice theme set by effectsTheme()\n",
      "See ?effectsTheme for details.\n",
      "\n",
      "Warning message:\n",
      "\"package 'merDeriv' was built under R version 4.2.1\"\n",
      "Loading required package: nonnest2\n",
      "\n",
      "Warning message:\n",
      "\"package 'nonnest2' was built under R version 4.2.1\"\n",
      "This is nonnest2 0.5-5.\n",
      "nonnest2 has not been tested with all combinations of model classes.\n",
      "\n",
      "Loading required package: sandwich\n",
      "\n",
      "Warning message:\n",
      "\"package 'sandwich' was built under R version 4.2.1\"\n",
      "Loading required package: lavaan\n",
      "\n",
      "Warning message:\n",
      "\"package 'lavaan' was built under R version 4.2.1\"\n",
      "This is lavaan 0.6-12\n",
      "lavaan is FREE software! Please report any bugs.\n",
      "\n",
      "Warning message:\n",
      "\"package 'bayesplot' was built under R version 4.2.1\"\n",
      "This is bayesplot version 1.9.0\n",
      "\n",
      "- Online documentation and vignettes at mc-stan.org/bayesplot\n",
      "\n",
      "- bayesplot theme set to bayesplot::theme_default()\n",
      "\n",
      "   * Does _not_ affect other ggplot2 plots\n",
      "\n",
      "   * See ?bayesplot_theme_set for details on theme setting\n",
      "\n",
      "Warning message:\n",
      "\"package 'BayesFactor' was built under R version 4.2.1\"\n",
      "Loading required package: coda\n",
      "\n",
      "Warning message:\n",
      "\"package 'coda' was built under R version 4.2.1\"\n",
      "************\n",
      "Welcome to BayesFactor 0.9.12-4.4. If you have questions, please contact Richard Morey (richarddmorey@gmail.com).\n",
      "\n",
      "Type BFManual() to open the manual.\n",
      "************\n",
      "\n",
      "\n",
      "Attaching package: 'lubridate'\n",
      "\n",
      "\n",
      "The following objects are masked from 'package:base':\n",
      "\n",
      "    date, intersect, setdiff, union\n",
      "\n",
      "\n"
     ]
    }
   ],
   "source": [
    "library(anytime)\n",
    "library(lmerTest)\n",
    "library(tidyverse)\n",
    "library(report)\n",
    "library(xtable)\n",
    "library(LMERConvenienceFunctions)\n",
    "library(lme4)\n",
    "library(ez)\n",
    "library(rstatix)\n",
    "library(DescTools)\n",
    "library(predictmeans)\n",
    "library(effects)\n",
    "library(merDeriv)\n",
    "library(bayesplot)\n",
    "library(report)\n",
    "library(ggplot2)\n",
    "library(BayesFactor)\n",
    "library(tidyr)\n",
    "library(lubridate)\n",
    "round_df <- function(df, digits) {\n",
    "  nums <- vapply(df, is.numeric, FUN.VALUE = logical(1))\n",
    "\n",
    "  df[,nums] <- round(df[,nums], digits = digits)\n",
    "\n",
    "  (df)\n",
    "}\n",
    "\n",
    "apatheme=theme_bw()+\n",
    "  theme(panel.grid.major=element_blank(),\n",
    "        panel.grid.minor=element_blank(),\n",
    "        panel.border=element_blank(),\n",
    "        axis.line=element_line(color=\"black\"),\n",
    "        text=element_text(size=10), #change writing size\n",
    "        #legend.title=element_blank(),\n",
    "       legend.position = \"top\")\n",
    "\n"
   ]
  },
  {
   "cell_type": "code",
   "execution_count": 5,
   "id": "a4a3fc0f",
   "metadata": {},
   "outputs": [],
   "source": [
    "df <- read.csv(\"./adaptivedf.csv\")\n",
    "df$PId <- factor(df$PId)\n",
    "df$AdaptationStatus <- factor(df$AdaptationStatus)\n",
    "df$BlockNumber <- factor(df$BlockNumber)\n",
    "#df$EDAMean<-scale(df$EDAMean)\n",
    "df$EDATonic<-scale(df$EDATonic)\n",
    "df$SlopeRatioMean<-scale(df$SlopeRatioMean)"
   ]
  },
  {
   "cell_type": "code",
   "execution_count": 6,
   "id": "0305d3e8",
   "metadata": {},
   "outputs": [],
   "source": [
    "df$EDATonicDiff <- df$EDATonicMax - df$EDATonicMin"
   ]
  },
  {
   "cell_type": "code",
   "execution_count": 12,
   "id": "5b8a253c",
   "metadata": {},
   "outputs": [
    {
     "data": {
      "text/plain": [
       "\n",
       "\tShapiro-Wilk normality test\n",
       "\n",
       "data:  df$NBackAccuracy\n",
       "W = 0.81097, p-value = 4.574e-11\n"
      ]
     },
     "metadata": {},
     "output_type": "display_data"
    },
    {
     "data": {
      "text/plain": [
       "\n",
       "Error: PId\n",
       "          Df    Sum Sq   Mean Sq F value Pr(>F)\n",
       "Residuals 16 0.0004687 2.929e-05               \n",
       "\n",
       "Error: PId:BlockNumber\n",
       "            Df    Sum Sq   Mean Sq F value Pr(>F)\n",
       "BlockNumber  6 0.0001116 1.860e-05   0.613  0.719\n",
       "Residuals   96 0.0029119 3.033e-05               "
      ]
     },
     "metadata": {},
     "output_type": "display_data"
    },
    {
     "data": {
      "text/html": [
       "<pre class=language-r><code>new(\"standardGeneric\", .Data = function (object, ...) \n",
       "standardGeneric(\"summary\"), generic = structure(\"summary\", package = \"base\"), \n",
       "<span style=white-space:pre-wrap>    package = \"base\", group = list(), valueClass = character(0), </span>\n",
       "<span style=white-space:pre-wrap>    signature = \"object\", default = new(\"derivedDefaultMethod\", </span>\n",
       "<span style=white-space:pre-wrap>        .Data = function (object, ...) </span>\n",
       "<span style=white-space:pre-wrap>        UseMethod(\"summary\"), target = new(\"signature\", .Data = \"ANY\", </span>\n",
       "<span style=white-space:pre-wrap>            names = \"object\", package = \"methods\"), defined = new(\"signature\", </span>\n",
       "<span style=white-space:pre-wrap>            .Data = \"ANY\", names = \"object\", package = \"methods\"), </span>\n",
       "<span style=white-space:pre-wrap>        generic = structure(\"summary\", package = \"base\")), skeleton = (new(\"derivedDefaultMethod\", </span>\n",
       "<span style=white-space:pre-wrap>        .Data = function (object, ...) </span>\n",
       "<span style=white-space:pre-wrap>        UseMethod(\"summary\"), target = new(\"signature\", .Data = \"ANY\", </span>\n",
       "<span style=white-space:pre-wrap>            names = \"object\", package = \"methods\"), defined = new(\"signature\", </span>\n",
       "<span style=white-space:pre-wrap>            .Data = \"ANY\", names = \"object\", package = \"methods\"), </span>\n",
       "<span style=white-space:pre-wrap>        generic = structure(\"summary\", package = \"base\")))(object, </span>\n",
       "<span style=white-space:pre-wrap>        ...))</span></code></pre>"
      ],
      "text/latex": [
       "\\begin{minted}{r}\n",
       "new(\"standardGeneric\", .Data = function (object, ...) \n",
       "standardGeneric(\"summary\"), generic = structure(\"summary\", package = \"base\"), \n",
       "    package = \"base\", group = list(), valueClass = character(0), \n",
       "    signature = \"object\", default = new(\"derivedDefaultMethod\", \n",
       "        .Data = function (object, ...) \n",
       "        UseMethod(\"summary\"), target = new(\"signature\", .Data = \"ANY\", \n",
       "            names = \"object\", package = \"methods\"), defined = new(\"signature\", \n",
       "            .Data = \"ANY\", names = \"object\", package = \"methods\"), \n",
       "        generic = structure(\"summary\", package = \"base\")), skeleton = (new(\"derivedDefaultMethod\", \n",
       "        .Data = function (object, ...) \n",
       "        UseMethod(\"summary\"), target = new(\"signature\", .Data = \"ANY\", \n",
       "            names = \"object\", package = \"methods\"), defined = new(\"signature\", \n",
       "            .Data = \"ANY\", names = \"object\", package = \"methods\"), \n",
       "        generic = structure(\"summary\", package = \"base\")))(object, \n",
       "        ...))\n",
       "\\end{minted}"
      ],
      "text/markdown": [
       "```r\n",
       "new(\"standardGeneric\", .Data = function (object, ...) \n",
       "standardGeneric(\"summary\"), generic = structure(\"summary\", package = \"base\"), \n",
       "    package = \"base\", group = list(), valueClass = character(0), \n",
       "    signature = \"object\", default = new(\"derivedDefaultMethod\", \n",
       "        .Data = function (object, ...) \n",
       "        UseMethod(\"summary\"), target = new(\"signature\", .Data = \"ANY\", \n",
       "            names = \"object\", package = \"methods\"), defined = new(\"signature\", \n",
       "            .Data = \"ANY\", names = \"object\", package = \"methods\"), \n",
       "        generic = structure(\"summary\", package = \"base\")), skeleton = (new(\"derivedDefaultMethod\", \n",
       "        .Data = function (object, ...) \n",
       "        UseMethod(\"summary\"), target = new(\"signature\", .Data = \"ANY\", \n",
       "            names = \"object\", package = \"methods\"), defined = new(\"signature\", \n",
       "            .Data = \"ANY\", names = \"object\", package = \"methods\"), \n",
       "        generic = structure(\"summary\", package = \"base\")))(object, \n",
       "        ...))\n",
       "```"
      ],
      "text/plain": [
       "new(\"standardGeneric\", .Data = function (object, ...) \n",
       "standardGeneric(\"summary\"), generic = \"summary\", package = \"base\", \n",
       "    group = list(), valueClass = character(0), signature = \"object\", \n",
       "    default = new(\"derivedDefaultMethod\", .Data = function (object, \n",
       "        ...) \n",
       "    UseMethod(\"summary\"), target = new(\"signature\", .Data = \"ANY\", \n",
       "        names = \"object\", package = \"methods\"), defined = new(\"signature\", \n",
       "        .Data = \"ANY\", names = \"object\", package = \"methods\"), \n",
       "        generic = \"summary\"), skeleton = (new(\"derivedDefaultMethod\", \n",
       "        .Data = function (object, ...) \n",
       "        UseMethod(\"summary\"), target = new(\"signature\", .Data = \"ANY\", \n",
       "            names = \"object\", package = \"methods\"), defined = new(\"signature\", \n",
       "            .Data = \"ANY\", names = \"object\", package = \"methods\"), \n",
       "        generic = \"summary\"))(object, ...))\n",
       "<environment: 0x00000253843a13b8>\n",
       "attr(,\"generic\")\n",
       "[1] \"summary\"\n",
       "attr(,\"generic\")attr(,\"package\")\n",
       "[1] \"base\"\n",
       "attr(,\"package\")\n",
       "[1] \"base\"\n",
       "attr(,\"group\")\n",
       "list()\n",
       "attr(,\"valueClass\")\n",
       "character(0)\n",
       "attr(,\"signature\")\n",
       "[1] \"object\"\n",
       "attr(,\"default\")\n",
       "Method Definition (Class \"derivedDefaultMethod\"):\n",
       "\n",
       "function (object, ...) \n",
       "UseMethod(\"summary\")\n",
       "<bytecode: 0x0000025384382380>\n",
       "<environment: namespace:base>\n",
       "\n",
       "Signatures:\n",
       "        object\n",
       "target  \"ANY\" \n",
       "defined \"ANY\" \n",
       "attr(,\"skeleton\")\n",
       "(new(\"derivedDefaultMethod\", .Data = function (object, ...) \n",
       "UseMethod(\"summary\"), target = new(\"signature\", .Data = \"ANY\", \n",
       "    names = \"object\", package = \"methods\"), defined = new(\"signature\", \n",
       "    .Data = \"ANY\", names = \"object\", package = \"methods\"), generic = \"summary\"))(object, \n",
       "    ...)\n",
       "attr(,\"class\")\n",
       "[1] \"standardGeneric\"\n",
       "attr(,\"class\")attr(,\"package\")\n",
       "[1] \"methods\""
      ]
     },
     "metadata": {},
     "output_type": "display_data"
    }
   ],
   "source": [
    "shapiro.test(df$NBackAccuracy)\n",
    "summary(aov(df$EDAPhasic ~ BlockNumber + Error(PId/BlockNumber), data = df))\n",
    "summary"
   ]
  },
  {
   "cell_type": "code",
   "execution_count": 8,
   "id": "6a93ed44",
   "metadata": {},
   "outputs": [
    {
     "data": {
      "text/plain": [
       "\n",
       "Error: PId\n",
       "          Df    Sum Sq   Mean Sq F value Pr(>F)\n",
       "Residuals 16 0.0004687 2.929e-05               \n",
       "\n",
       "Error: PId:BlockNumber\n",
       "            Df    Sum Sq   Mean Sq F value Pr(>F)\n",
       "BlockNumber  6 0.0001116 1.860e-05   0.613  0.719\n",
       "Residuals   96 0.0029119 3.033e-05               "
      ]
     },
     "metadata": {},
     "output_type": "display_data"
    }
   ],
   "source": [
    "res.aov <- aov(EDAPhasic ~ BlockNumber + Error(PId/BlockNumber), data = df)\n",
    "summary(res.aov)\n"
   ]
  },
  {
   "cell_type": "code",
   "execution_count": 58,
   "id": "f25d9ca4",
   "metadata": {},
   "outputs": [
    {
     "ename": "ERROR",
     "evalue": "Error in apply(y, 1L, rank): dim(X) must have a positive length\n",
     "output_type": "error",
     "traceback": [
      "Error in apply(y, 1L, rank): dim(X) must have a positive length\nTraceback:\n",
      "1. df %>% friedman_effsize(EDATonic ~ BlockNumber | PId)",
      "2. friedman_effsize(., EDATonic ~ BlockNumber | PId)",
      "3. .friedman_effsize(data, formula, ci = ci, conf.level = conf.level, \n .     ci.type = ci.type, nboot = nboot, ...)",
      "4. kendall_w(data, formula, ...)",
      "5. friedman_test(data, formula, ...)",
      "6. .friedman_test(data, formula, ...)",
      "7. stats::friedman.test(formula, data = data, ...) %>% tidy() %>% \n .     rename(p = .data$p.value, df = .data$parameter) %>% mutate(method = \"Friedman test\") %>% \n .     select(.data$statistic, .data$df, .data$p, .data$method) %>% \n .     add_columns(.y. = vars$dv, n = sample.size, .before = \"statistic\")",
      "8. add_columns(., .y. = vars$dv, n = sample.size, .before = \"statistic\")",
      "9. .before %in% colnames(.data)",
      "10. colnames(.data)",
      "11. is.data.frame(x)",
      "12. select(., .data$statistic, .data$df, .data$p, .data$method)",
      "13. mutate(., method = \"Friedman test\")",
      "14. rename(., p = .data$p.value, df = .data$parameter)",
      "15. tidy(.)",
      "16. stats::friedman.test(formula, data = data, ...)",
      "17. friedman.test.formula(formula, data = data, ...)",
      "18. friedman.test(mf[[1L]], mf[[2L]], mf[[3L]])",
      "19. friedman.test.default(mf[[1L]], mf[[2L]], mf[[3L]])",
      "20. t(apply(y, 1L, rank))",
      "21. apply(y, 1L, rank)",
      "22. stop(\"dim(X) must have a positive length\")"
     ]
    }
   ],
   "source": [
    "df %>% friedman_effsize(EDATonic ~ BlockNumber | PId)\n"
   ]
  },
  {
   "cell_type": "code",
   "execution_count": 11,
   "id": "d8256e1c",
   "metadata": {},
   "outputs": [
    {
     "name": "stderr",
     "output_type": "stream",
     "text": [
      "ERROR while rich displaying an object: \u001b[1m\u001b[33mError\u001b[39m in \u001b[1m\u001b[1m`f()`:\u001b[22m\n",
      "\u001b[33m!\u001b[39m Insufficient values in manual scale. 7 needed but only 3 provided.\n",
      "\n",
      "Traceback:\n",
      "1. tryCatch(withCallingHandlers({\n",
      " .     if (!mime %in% names(repr::mime2repr)) \n",
      " .         stop(\"No repr_* for mimetype \", mime, \" in repr::mime2repr\")\n",
      " .     rpr <- repr::mime2repr[[mime]](obj)\n",
      " .     if (is.null(rpr)) \n",
      " .         return(NULL)\n",
      " .     prepare_content(is.raw(rpr), rpr)\n",
      " . }, error = error_handler), error = outer_handler)\n",
      "2. tryCatchList(expr, classes, parentenv, handlers)\n",
      "3. tryCatchOne(expr, names, parentenv, handlers[[1L]])\n",
      "4. doTryCatch(return(expr), name, parentenv, handler)\n",
      "5. withCallingHandlers({\n",
      " .     if (!mime %in% names(repr::mime2repr)) \n",
      " .         stop(\"No repr_* for mimetype \", mime, \" in repr::mime2repr\")\n",
      " .     rpr <- repr::mime2repr[[mime]](obj)\n",
      " .     if (is.null(rpr)) \n",
      " .         return(NULL)\n",
      " .     prepare_content(is.raw(rpr), rpr)\n",
      " . }, error = error_handler)\n",
      "6. repr::mime2repr[[mime]](obj)\n",
      "7. repr_text.default(obj)\n",
      "8. paste(capture.output(print(obj)), collapse = \"\\n\")\n",
      "9. capture.output(print(obj))\n",
      "10. withVisible(...elt(i))\n",
      "11. print(obj)\n",
      "12. print.ggplot(obj)\n",
      "13. ggplot_build(x)\n",
      "14. ggplot_build.ggplot(x)\n",
      "15. lapply(data, scales_map_df, scales = npscales)\n",
      "16. FUN(X[[i]], ...)\n",
      "17. unlist(lapply(scales$scales, function(scale) scale$map_df(df = df)), \n",
      "  .     recursive = FALSE)\n",
      "18. lapply(scales$scales, function(scale) scale$map_df(df = df))\n",
      "19. FUN(X[[i]], ...)\n",
      "20. scale$map_df(df = df)\n",
      "21. f(..., self = self)\n",
      "22. lapply(aesthetics, function(j) self$map(df[[j]]))\n",
      "23. FUN(X[[i]], ...)\n",
      "24. self$map(df[[j]])\n",
      "25. f(..., self = self)\n",
      "26. self$palette(n)\n",
      "27. f(...)\n",
      "28. abort(glue(\"Insufficient values in manual scale. {n} needed but only {length(values)} provided.\"))\n",
      "29. signal_abort(cnd, .file)\n"
     ]
    },
    {
     "data": {
      "image/png": "[encoded data removed]",
      "text/plain": [
       "plot without title"
      ]
     },
     "metadata": {
      "image/png": {
       "height": 420,
       "width": 420
      }
     },
     "output_type": "display_data"
    }
   ],
   "source": [
    "ggplot(df, aes(x = BlockNumber, y = EDATonic, fill=BlockNumber)) + \n",
    "    geom_boxplot()+theme_classic()\n",
    "    #facet_wrap(~NBackN)\n",
    "\n"
   ]
  },
  {
   "cell_type": "code",
   "execution_count": 72,
   "id": "e538ac53",
   "metadata": {},
   "outputs": [
    {
     "data": {
      "text/plain": [
       "\n",
       "\tShapiro-Wilk normality test\n",
       "\n",
       "data:  df$EDAPhasic\n",
       "W = 0.21456, p-value < 2.2e-16\n"
      ]
     },
     "metadata": {},
     "output_type": "display_data"
    }
   ],
   "source": [
    "shapiro.test(df$EDAPhasic)\n"
   ]
  },
  {
   "cell_type": "code",
   "execution_count": 73,
   "id": "a5241903",
   "metadata": {},
   "outputs": [
    {
     "data": {
      "text/plain": [
       "\n",
       "\tWilcoxon signed rank exact test\n",
       "\n",
       "data:  x and y\n",
       "V = 30, p-value = 0.02667\n",
       "alternative hypothesis: true location shift is not equal to 0\n"
      ]
     },
     "metadata": {},
     "output_type": "display_data"
    }
   ],
   "source": [
    "\n",
    "mes <- \"EDAPhasic\"\n",
    "\n",
    "x <- (df%>%filter(BlockNumber==6))[[mes]] \n",
    "y <- (df%>%filter(BlockNumber==7))[[mes]]\n",
    "wilcox.test(x, y, paired=TRUE)\n"
   ]
  },
  {
   "cell_type": "code",
   "execution_count": 70,
   "id": "fe41cca4",
   "metadata": {},
   "outputs": [
    {
     "data": {
      "image/png": "[encoded data removed]",
      "text/plain": [
       "plot without title"
      ]
     },
     "metadata": {
      "image/png": {
       "height": 420,
       "width": 420
      }
     },
     "output_type": "display_data"
    }
   ],
   "source": [
    "ggplot(df, aes(x = BlockNumber, y = NBackAccuracy, fill=BlockNumber)) + \n",
    "    geom_boxplot()+theme_classic()#+ \n",
    "    #facet_wrap(~NBackN)"
   ]
  },
  {
   "cell_type": "code",
   "execution_count": 19,
   "id": "6c6e17c0",
   "metadata": {},
   "outputs": [
    {
     "data": {
      "image/png": "[encoded data removed]",
      "text/plain": [
       "plot without title"
      ]
     },
     "metadata": {
      "image/png": {
       "height": 420,
       "width": 420
      }
     },
     "output_type": "display_data"
    }
   ],
   "source": [
    "ggplot(df, aes(x = BlockNumber, y = EDAPhasic, fill=BlockNumber)) + \n",
    "    geom_boxplot(outlier.shape = NA)+theme_classic()#+ \n",
    "    #facet_wrap(~NBackN)"
   ]
  },
  {
   "cell_type": "code",
   "execution_count": 8,
   "id": "43417c31",
   "metadata": {},
   "outputs": [
    {
     "name": "stderr",
     "output_type": "stream",
     "text": [
      "Warning message:\n",
      "\"Removed 3 rows containing missing values (geom_point).\"\n",
      "Warning message:\n",
      "\"Removed 2 row(s) containing missing values (geom_path).\"\n"
     ]
    },
    {
     "data": {
      "image/png": "[encoded data removed]",
      "text/plain": [
       "plot without title"
      ]
     },
     "metadata": {
      "image/png": {
       "height": 420,
       "width": 420
      }
     },
     "output_type": "display_data"
    }
   ],
   "source": [
    "#dfXWL <- df%>%filter(BlockNumber!=1)\n",
    "\n",
    "ggplot(df, aes(x = BlockNumber, y = EDATonicSD, fill=BlockNumber)) + \n",
    "geom_point()+\n",
    "geom_line(aes(group=PId))+\n",
    "    theme_classic()#+ \n",
    "    #facet_wrap(~NBackN)"
   ]
  },
  {
   "cell_type": "code",
   "execution_count": 21,
   "id": "228ed340",
   "metadata": {},
   "outputs": [
    {
     "data": {
      "text/plain": [
       "\n",
       "\tWilcoxon signed rank exact test\n",
       "\n",
       "data:  x and y\n",
       "V = 30, p-value = 0.02667\n",
       "alternative hypothesis: true location shift is not equal to 0\n"
      ]
     },
     "metadata": {},
     "output_type": "display_data"
    }
   ],
   "source": [
    "mes <- \"EDAPhasic\"\n",
    "x <- (df%>%filter(AdaptationStatus==1,BlockNumber==6))[[mes]] \n",
    "y <- (df%>%filter(AdaptationStatus==2,BlockNumber==7))[[mes]]\n",
    "wilcox.test(x, y, paired=TRUE)\n",
    "\n"
   ]
  },
  {
   "cell_type": "code",
   "execution_count": 203,
   "id": "aea91131",
   "metadata": {},
   "outputs": [
    {
     "data": {
      "text/plain": [
       "\n",
       "Error: PId\n",
       "          Df Sum Sq Mean Sq F value Pr(>F)\n",
       "Residuals 11  11312    1028               \n",
       "\n",
       "Error: PId:BlockNumber\n",
       "            Df Sum Sq Mean Sq F value   Pr(>F)    \n",
       "BlockNumber  6   1279  213.19   7.913 1.93e-06 ***\n",
       "Residuals   66   1778   26.94                     \n",
       "---\n",
       "Signif. codes:  0 '***' 0.001 '**' 0.01 '*' 0.05 '.' 0.1 ' ' 1"
      ]
     },
     "metadata": {},
     "output_type": "display_data"
    },
    {
     "data": {
      "text/html": [
       "<pre class=language-r><code>new(\"standardGeneric\", .Data = function (object, ...) \n",
       "standardGeneric(\"summary\"), generic = structure(\"summary\", package = \"base\"), \n",
       "<span style=white-space:pre-wrap>    package = \"base\", group = list(), valueClass = character(0), </span>\n",
       "<span style=white-space:pre-wrap>    signature = \"object\", default = new(\"derivedDefaultMethod\", </span>\n",
       "<span style=white-space:pre-wrap>        .Data = function (object, ...) </span>\n",
       "<span style=white-space:pre-wrap>        UseMethod(\"summary\"), target = new(\"signature\", .Data = \"ANY\", </span>\n",
       "<span style=white-space:pre-wrap>            names = \"object\", package = \"methods\"), defined = new(\"signature\", </span>\n",
       "<span style=white-space:pre-wrap>            .Data = \"ANY\", names = \"object\", package = \"methods\"), </span>\n",
       "<span style=white-space:pre-wrap>        generic = structure(\"summary\", package = \"base\")), skeleton = (new(\"derivedDefaultMethod\", </span>\n",
       "<span style=white-space:pre-wrap>        .Data = function (object, ...) </span>\n",
       "<span style=white-space:pre-wrap>        UseMethod(\"summary\"), target = new(\"signature\", .Data = \"ANY\", </span>\n",
       "<span style=white-space:pre-wrap>            names = \"object\", package = \"methods\"), defined = new(\"signature\", </span>\n",
       "<span style=white-space:pre-wrap>            .Data = \"ANY\", names = \"object\", package = \"methods\"), </span>\n",
       "<span style=white-space:pre-wrap>        generic = structure(\"summary\", package = \"base\")))(object, </span>\n",
       "<span style=white-space:pre-wrap>        ...))</span></code></pre>"
      ],
      "text/latex": [
       "\\begin{minted}{r}\n",
       "new(\"standardGeneric\", .Data = function (object, ...) \n",
       "standardGeneric(\"summary\"), generic = structure(\"summary\", package = \"base\"), \n",
       "    package = \"base\", group = list(), valueClass = character(0), \n",
       "    signature = \"object\", default = new(\"derivedDefaultMethod\", \n",
       "        .Data = function (object, ...) \n",
       "        UseMethod(\"summary\"), target = new(\"signature\", .Data = \"ANY\", \n",
       "            names = \"object\", package = \"methods\"), defined = new(\"signature\", \n",
       "            .Data = \"ANY\", names = \"object\", package = \"methods\"), \n",
       "        generic = structure(\"summary\", package = \"base\")), skeleton = (new(\"derivedDefaultMethod\", \n",
       "        .Data = function (object, ...) \n",
       "        UseMethod(\"summary\"), target = new(\"signature\", .Data = \"ANY\", \n",
       "            names = \"object\", package = \"methods\"), defined = new(\"signature\", \n",
       "            .Data = \"ANY\", names = \"object\", package = \"methods\"), \n",
       "        generic = structure(\"summary\", package = \"base\")))(object, \n",
       "        ...))\n",
       "\\end{minted}"
      ],
      "text/markdown": [
       "```r\n",
       "new(\"standardGeneric\", .Data = function (object, ...) \n",
       "standardGeneric(\"summary\"), generic = structure(\"summary\", package = \"base\"), \n",
       "    package = \"base\", group = list(), valueClass = character(0), \n",
       "    signature = \"object\", default = new(\"derivedDefaultMethod\", \n",
       "        .Data = function (object, ...) \n",
       "        UseMethod(\"summary\"), target = new(\"signature\", .Data = \"ANY\", \n",
       "            names = \"object\", package = \"methods\"), defined = new(\"signature\", \n",
       "            .Data = \"ANY\", names = \"object\", package = \"methods\"), \n",
       "        generic = structure(\"summary\", package = \"base\")), skeleton = (new(\"derivedDefaultMethod\", \n",
       "        .Data = function (object, ...) \n",
       "        UseMethod(\"summary\"), target = new(\"signature\", .Data = \"ANY\", \n",
       "            names = \"object\", package = \"methods\"), defined = new(\"signature\", \n",
       "            .Data = \"ANY\", names = \"object\", package = \"methods\"), \n",
       "        generic = structure(\"summary\", package = \"base\")))(object, \n",
       "        ...))\n",
       "```"
      ],
      "text/plain": [
       "new(\"standardGeneric\", .Data = function (object, ...) \n",
       "standardGeneric(\"summary\"), generic = \"summary\", package = \"base\", \n",
       "    group = list(), valueClass = character(0), signature = \"object\", \n",
       "    default = new(\"derivedDefaultMethod\", .Data = function (object, \n",
       "        ...) \n",
       "    UseMethod(\"summary\"), target = new(\"signature\", .Data = \"ANY\", \n",
       "        names = \"object\", package = \"methods\"), defined = new(\"signature\", \n",
       "        .Data = \"ANY\", names = \"object\", package = \"methods\"), \n",
       "        generic = \"summary\"), skeleton = (new(\"derivedDefaultMethod\", \n",
       "        .Data = function (object, ...) \n",
       "        UseMethod(\"summary\"), target = new(\"signature\", .Data = \"ANY\", \n",
       "            names = \"object\", package = \"methods\"), defined = new(\"signature\", \n",
       "            .Data = \"ANY\", names = \"object\", package = \"methods\"), \n",
       "        generic = \"summary\"))(object, ...))\n",
       "<environment: 0x0000023a739c4bb8>\n",
       "attr(,\"generic\")\n",
       "[1] \"summary\"\n",
       "attr(,\"generic\")attr(,\"package\")\n",
       "[1] \"base\"\n",
       "attr(,\"package\")\n",
       "[1] \"base\"\n",
       "attr(,\"group\")\n",
       "list()\n",
       "attr(,\"valueClass\")\n",
       "character(0)\n",
       "attr(,\"signature\")\n",
       "[1] \"object\"\n",
       "attr(,\"default\")\n",
       "Method Definition (Class \"derivedDefaultMethod\"):\n",
       "\n",
       "function (object, ...) \n",
       "UseMethod(\"summary\")\n",
       "<bytecode: 0x0000023a73a10520>\n",
       "<environment: namespace:base>\n",
       "\n",
       "Signatures:\n",
       "        object\n",
       "target  \"ANY\" \n",
       "defined \"ANY\" \n",
       "attr(,\"skeleton\")\n",
       "(new(\"derivedDefaultMethod\", .Data = function (object, ...) \n",
       "UseMethod(\"summary\"), target = new(\"signature\", .Data = \"ANY\", \n",
       "    names = \"object\", package = \"methods\"), defined = new(\"signature\", \n",
       "    .Data = \"ANY\", names = \"object\", package = \"methods\"), generic = \"summary\"))(object, \n",
       "    ...)\n",
       "attr(,\"class\")\n",
       "[1] \"standardGeneric\"\n",
       "attr(,\"class\")attr(,\"package\")\n",
       "[1] \"methods\""
      ]
     },
     "metadata": {},
     "output_type": "display_data"
    }
   ],
   "source": [
    "summary(aov(NBackAccuracy ~ BlockNumber + Error(PId/BlockNumber), data = df))\n",
    "\n",
    "summary\n"
   ]
  },
  {
   "cell_type": "code",
   "execution_count": 204,
   "id": "7b3f4e86",
   "metadata": {},
   "outputs": [
    {
     "data": {
      "text/plain": [
       "Bayes factor analysis\n",
       "--------------\n",
       "[1] BlockNumber + PId : 0.1385879 ±0.32%\n",
       "\n",
       "Against denominator:\n",
       "  EDATonicSD ~ PId \n",
       "---\n",
       "Bayes factor type: BFlinearModel, JZS\n"
      ]
     },
     "metadata": {},
     "output_type": "display_data"
    }
   ],
   "source": [
    "anovaBF(EDATonicSD ~ BlockNumber + PId, data = df, whichRandom = \"PId\",\n",
    "    progress=FALSE)"
   ]
  },
  {
   "cell_type": "code",
   "execution_count": 83,
   "id": "9ebd18ff",
   "metadata": {},
   "outputs": [
    {
     "data": {
      "text/plain": [
       "Bayes factor analysis\n",
       "--------------\n",
       "[1] Alt., r=0.707 : 0.3306987 ±0.01%\n",
       "\n",
       "Against denominator:\n",
       "  Null, mu = 0 \n",
       "---\n",
       "Bayes factor type: BFoneSample, JZS\n"
      ]
     },
     "metadata": {},
     "output_type": "display_data"
    }
   ],
   "source": [
    "mes <- \"SlopeRatioMean\"\n",
    "x <- (df%>%filter(AdaptationStatus==1,BlockNumber==6))[[mes]] \n",
    "y <- (df%>%filter(AdaptationStatus==2,BlockNumber==7))[[mes]]\n",
    "bf =ttestBF(x, y, paired=TRUE)\n",
    "bf\n"
   ]
  },
  {
   "cell_type": "code",
   "execution_count": 81,
   "id": "33f26199",
   "metadata": {},
   "outputs": [
    {
     "data": {
      "text/html": [
       "<table class=\"dataframe\">\n",
       "<caption>A data.frame: 10 × 1</caption>\n",
       "<thead>\n",
       "\t<tr><th scope=col>EDARaw</th></tr>\n",
       "\t<tr><th scope=col>&lt;dbl&gt;</th></tr>\n",
       "</thead>\n",
       "<tbody>\n",
       "\t<tr><td> 6.075241</td></tr>\n",
       "\t<tr><td>12.104455</td></tr>\n",
       "\t<tr><td> 5.675068</td></tr>\n",
       "\t<tr><td> 3.635810</td></tr>\n",
       "\t<tr><td>10.119930</td></tr>\n",
       "\t<tr><td> 2.106784</td></tr>\n",
       "\t<tr><td> 1.462244</td></tr>\n",
       "\t<tr><td> 8.287432</td></tr>\n",
       "\t<tr><td> 1.524032</td></tr>\n",
       "\t<tr><td> 4.508604</td></tr>\n",
       "</tbody>\n",
       "</table>\n"
      ],
      "text/latex": [
       "A data.frame: 10 × 1\n",
       "\\begin{tabular}{l}\n",
       " EDARaw\\\\\n",
       " <dbl>\\\\\n",
       "\\hline\n",
       "\t  6.075241\\\\\n",
       "\t 12.104455\\\\\n",
       "\t  5.675068\\\\\n",
       "\t  3.635810\\\\\n",
       "\t 10.119930\\\\\n",
       "\t  2.106784\\\\\n",
       "\t  1.462244\\\\\n",
       "\t  8.287432\\\\\n",
       "\t  1.524032\\\\\n",
       "\t  4.508604\\\\\n",
       "\\end{tabular}\n"
      ],
      "text/markdown": [
       "\n",
       "A data.frame: 10 × 1\n",
       "\n",
       "| EDARaw &lt;dbl&gt; |\n",
       "|---|\n",
       "|  6.075241 |\n",
       "| 12.104455 |\n",
       "|  5.675068 |\n",
       "|  3.635810 |\n",
       "| 10.119930 |\n",
       "|  2.106784 |\n",
       "|  1.462244 |\n",
       "|  8.287432 |\n",
       "|  1.524032 |\n",
       "|  4.508604 |\n",
       "\n"
      ],
      "text/plain": [
       "   EDARaw   \n",
       "1   6.075241\n",
       "2  12.104455\n",
       "3   5.675068\n",
       "4   3.635810\n",
       "5  10.119930\n",
       "6   2.106784\n",
       "7   1.462244\n",
       "8   8.287432\n",
       "9   1.524032\n",
       "10  4.508604"
      ]
     },
     "metadata": {},
     "output_type": "display_data"
    }
   ],
   "source": [
    "(df%>%filter(AdaptationStatus==1,BlockNumber==1))[mes] "
   ]
  },
  {
   "cell_type": "code",
   "execution_count": null,
   "id": "022ae69f",
   "metadata": {},
   "outputs": [],
   "source": [
    "#t_non<-data.frame(coef(summary(model)))[2,]$t.value\n",
    "#p_non<-data.frame(coef(summary(model)))[2,]$Pr...t..\n",
    "#print(p_non)\n",
    "#print(t_non)\n",
    "\n",
    "model <- lmer(NBackAccuracy ~ Flow + (1|PId), data = df%>%filter(AdaptationStatus==1, BlockNumber!=2)) #to run the model\n",
    "#model <- lmer(NBackAccuracy ~ Flow + (1|PId), data = df%>%filter(BlockNumber5)) #to run the model\n",
    "\n",
    "summary(model)\n",
    "\n",
    "\n",
    "df2<-df%>%filter(BlockNumber==6)#get adaptation values\n",
    "\n",
    "df_m<-as.data.frame(coef(model)[1])\n",
    "df_m$PId<-rownames(df_m)\n",
    "\n",
    "df2<-left_join(df2,df_m,by=\"PId\")\n",
    "\n",
    "#calculate expected values\n",
    "df2$intercept<-df2$PId..Intercept.\n",
    "df2$slope<-df2$PId.Flow\n",
    "df2$slopeNBackN<-df2$PId.NBackN\n",
    "df2$slopelowNBackN<-df2$PId.Flow.NBackN\n",
    "df2$expected <- predict(model, df%>%filter(BlockNumber==6)%>%select(PId,NBackN,Flow))\n",
    "#x$expected <- x$intercept + x$slope * x$Flow + x$BackLevel * x$slopeBackLevel\n",
    "# + x$slopeBackLevel* x$slopelowBackLevel + x$slopeBackLevel* x$slopelowBackLevel\n",
    "df2$actual<-df2[,colnames(df2)==\"NBackAccuracy\"]#get actual"
   ]
  },
  {
   "cell_type": "code",
   "execution_count": null,
   "id": "5cac3a7c",
   "metadata": {},
   "outputs": [],
   "source": [
    "df2"
   ]
  },
  {
   "cell_type": "code",
   "execution_count": null,
   "id": "474f5d0a",
   "metadata": {},
   "outputs": [],
   "source": [
    "dfX <- gather(df2, condition, measurement, expected:actual, factor_key=TRUE)\n",
    "#ezANOVA(dfX, dv= measurement, wid = PId, within= condition, between = NBackN)\n",
    "\n",
    "ezANOVA(dfX, dv= measurement, wid = PId, within= condition)\n",
    "\n",
    "qplot(x = Flow, y = measurement, color = condition, data = dfX) +\n",
    "  geom_smooth(method = \"lm\")\n",
    "\n"
   ]
  },
  {
   "cell_type": "code",
   "execution_count": null,
   "id": "fd3f7fd6",
   "metadata": {},
   "outputs": [],
   "source": [
    "ggplot(df2,aes(Flow,actual,group=PId,color=PId))+\n",
    "    geom_line(alpha=.5)+\n",
    "    geom_segment(data=df2,aes(x = Flow, xend = Flow, y = actual, yend = expected),linetype=\"dashed\")+\n",
    "    geom_point(data = df2,aes(Flow,actual,color=PId),size=3)+\n",
    "    geom_point(data = df2,aes(Flow,expected,color=PId),shape=3,size=3)+\n",
    "    apatheme+\n",
    "    theme(legend.position=\"None\")+\n",
    "    #ylab(\"z-scores of Mean EDA\")+\n",
    "    ylab(\"Mean Measure\")+\n",
    "    xlab(\"Stream\")+\n",
    "    #scale_x_continuous(breaks=(seq(20,130,by=20)))+ \n",
    "    geom_abline(aes(color = PId, intercept = intercept, slope = slope))+\n",
    "    facet_wrap(~NBackN)"
   ]
  },
  {
   "cell_type": "code",
   "execution_count": null,
   "id": "5d02759c",
   "metadata": {},
   "outputs": [],
   "source": [
    "df%>%filter(AdaptationStatus==2, NBackN==2)"
   ]
  },
  {
   "cell_type": "markdown",
   "id": "764b42b4",
   "metadata": {},
   "source": [
    "model <- lmer(NBackAccuracy ~ BlockNumber + (1|PId), data= df%>%filter(AdaptationStatus==1, NBackN==1)) #to run the model\n",
    "summary(model)\n",
    "df1<-df%>%filter(AdaptationStatus==2, NBackN==1)#get adaptation values\n",
    "dfX<-as.data.frame(coef(model)[1])\n",
    "dfX$PId<-rownames(dfX)\n",
    "df1<-left_join(df1,dfX,by=\"PId\")\n",
    "#calculate expected values\n",
    "df1$intercept<-df1$PId..Intercept.\n",
    "df1$slope<-df1$PId.Flow\n",
    "df1$slopeNBackN<-df1$PId.NBackN\n",
    "df1$expected <- predict(model, df1%>%select(PId,Flow))\n",
    "df1$actual<-df1[,colnames(df1)==\"NBackAccuracy\"]#get actual\n",
    "\n",
    "model <- lmer(NBackAccuracy ~ BlockNumber + (1|PId), data= df%>%filter(AdaptationStatus==1, NBackN==2)) #to run the model\n",
    "summary(model)\n",
    "df2<-df%>%filter(AdaptationStatus==2, NBackN==2)#get adaptation values\n",
    "dfX<-as.data.frame(coef(model)[1])\n",
    "dfX$PId<-rownames(dfX)\n",
    "df2<-left_join(df2,dfX,by=\"PId\")\n",
    "#calculate expected values\n",
    "df2$intercept<-df2$PId..Intercept.\n",
    "df2$slope<-df2$PId.Flow\n",
    "df2$slopeNBackN<-df2$PId.NBackN\n",
    "df2$expected <- predict(model, df2%>%select(PId,Flow))\n",
    "df2$actual<-df2[,colnames(df2)==\"NBackAccuracy\"]#get actual\n",
    "\n",
    "model <- lmer(NBackAccuracy ~ BlockNumber + (1|PId), data= df%>%filter(AdaptationStatus==1, NBackN==3)) #to run the model\n",
    "summary(model)\n",
    "df3<-df%>%filter(AdaptationStatus==2, NBackN==3)#get adaptation values\n",
    "dfX<-as.data.frame(coef(model)[1])\n",
    "dfX$PId<-rownames(dfX)\n",
    "df3<-left_join(df3,dfX,by=\"PId\")\n",
    "df3$intercept<-df3$PId..Intercept.\n",
    "df3$slope<-df3$PId.Flow\n",
    "df3$slopeNBackN<-df3$PId.NBackN\n",
    "df3$expected <- predict(model, df3%>%select(PId,Flow))\n",
    "df3$actual<-df3[,colnames(df3)==\"NBackAccuracy\"]#get actual\n",
    "\n",
    "x <- rbind(df1, df2)\n",
    "x <- rbind(x, df3)"
   ]
  },
  {
   "cell_type": "markdown",
   "id": "42a42d1c",
   "metadata": {},
   "source": [
    "## Model for Random adaptation"
   ]
  },
  {
   "cell_type": "code",
   "execution_count": null,
   "id": "1b491c69",
   "metadata": {},
   "outputs": [],
   "source": [
    "df"
   ]
  },
  {
   "cell_type": "code",
   "execution_count": null,
   "id": "ec6efec5",
   "metadata": {},
   "outputs": [],
   "source": [
    "#dfXWL <-df%>%filter(AdaptationStatus==1, BlockNumber!=7)\n",
    "#dfXWL <-df%>%filter( BlockNumber!=1)\n",
    "head(dfXWL)\n",
    "\n",
    "ggplot(dfXWL, aes(x = BlockNumber, y = NBackAccuracy)) + \n",
    "    geom_boxplot()+\n",
    "    facet_wrap(~NBackN)"
   ]
  },
  {
   "cell_type": "code",
   "execution_count": null,
   "id": "00e873df",
   "metadata": {},
   "outputs": [],
   "source": [
    "model <- lmer(EDATonic ~ Flow + (1|PId), data = df%>%filter(AdaptationStatus==1, BlockNumber!=6)) \n",
    "summary(model)"
   ]
  },
  {
   "cell_type": "code",
   "execution_count": null,
   "id": "3d1f814b",
   "metadata": {},
   "outputs": [],
   "source": [
    "df2<-df%>%filter(BlockNumber==6)#get random adaptation values\n",
    "\n",
    "df_m<-as.data.frame(coef(model)[1])\n",
    "df_m$PId<-rownames(df_m)\n",
    "\n",
    "df2<-left_join(df2,df_m,by=\"PId\")\n",
    "\n",
    "#calculate expected values\n",
    "df2$intercept<-df2$PId..Intercept.\n",
    "df2$slope<-df2$PId.Flow\n",
    "df2$slopeNBackN<-df2$PId.NBackN\n",
    "df2$slopelowNBackN<-df2$PId.Flow.NBackN\n",
    "df2$expected <- predict(model, df%>%filter(AdaptationStatus==2)%>%select(PId,NBackN,Flow))\n",
    "#x$expected <- x$intercept + x$slope * x$Flow + x$BackLevel * x$slopeBackLevel\n",
    "# + x$slopeBackLevel* x$slopelowBackLevel + x$slopeBackLevel* x$slopelowBackLevel\n",
    "df2$actual<-df2[,colnames(df2)==\"EDATonic\"]#get actual"
   ]
  },
  {
   "cell_type": "code",
   "execution_count": null,
   "id": "96d1685e",
   "metadata": {},
   "outputs": [],
   "source": [
    "dfXWL\n",
    "dfX <- gather(df2, condition, measurement, expected:actual, factor_key=TRUE)"
   ]
  },
  {
   "cell_type": "code",
   "execution_count": null,
   "id": "e2c9170e",
   "metadata": {},
   "outputs": [],
   "source": [
    "#ezANOVA(dfX, dv= measurement, wid = PId, within= condition, between = NBackN)\n",
    "\n",
    "ezANOVA(dfX, dv= measurement, wid = PId, within= condition)\n"
   ]
  },
  {
   "cell_type": "code",
   "execution_count": null,
   "id": "f7f9150a",
   "metadata": {},
   "outputs": [],
   "source": [
    "qplot(x = Flow, y = measurement, color = condition, data = dfX) +\n",
    "  geom_smooth(method = \"lm\")\n"
   ]
  },
  {
   "cell_type": "markdown",
   "id": "1febc3bf",
   "metadata": {},
   "source": [
    "## Adaptation plot"
   ]
  },
  {
   "cell_type": "code",
   "execution_count": null,
   "id": "bcceaa50",
   "metadata": {
    "scrolled": true
   },
   "outputs": [],
   "source": [
    "#setwd(\"./final test data/\") \n",
    "#person<-\"1\"\n",
    "#EDA_adaptation<-read.csv(\"./ID\",person,\"-adaptation.csv\")\n",
    "dfada<- read.csv(\"./ID202-adaptation.csv\")\n",
    "dfada$time2<-anytime(dfada$Time)\n",
    "df_raw<-read.csv(str_c(\"ID202-EDA.csv\"))\n",
    "df_count<-read.csv(str_c(\"ID202-visitorCount.csv\"))\n",
    "df_count<-df_count %>% filter(Time>min(dfada$Time))%>% filter(Time<max(dfada$Time))\n",
    "df_raw<-df_raw %>% filter(Time>min(dfada$Time))%>% filter(Time<max(dfada$Time))\n",
    "df_count$time2<-anytime(df_count$Time)\n",
    "dfada$time2<-anytime(dfada$Time)"
   ]
  },
  {
   "cell_type": "code",
   "execution_count": null,
   "id": "fdb50203",
   "metadata": {},
   "outputs": [],
   "source": [
    "dfada$time2<-dfada$time2-min(dfada$time2)\n",
    "dfada$time2<-dfada$time2-min(dfada$time2)\n",
    "df_count$time2<-df_count$time2-min(df_count$time2)\n",
    "dfada$Direction<-ifelse(dfada$Direction==\"less\",\"decreasing of Stream\",\"increasing of Stream\")\n"
   ]
  },
  {
   "cell_type": "code",
   "execution_count": null,
   "id": "99256793",
   "metadata": {},
   "outputs": [],
   "source": [
    "dfada$Direction<-as.factor(dfada$Direction)\n",
    "dfada$end<-c(dfada$time2[2:17],dfada$time2[17])"
   ]
  },
  {
   "cell_type": "code",
   "execution_count": null,
   "id": "665aec07",
   "metadata": {},
   "outputs": [],
   "source": [
    "min(df_count$Count)"
   ]
  },
  {
   "cell_type": "code",
   "execution_count": null,
   "id": "ea2d7e27",
   "metadata": {},
   "outputs": [],
   "source": [
    "print(anytime(df_count$Time))"
   ]
  },
  {
   "cell_type": "code",
   "execution_count": null,
   "id": "04803f54",
   "metadata": {},
   "outputs": [],
   "source": [
    "ggplot(dfada)+\n",
    "geom_rect(data=dfada,aes(xmin = dfada$time2,xmax = end,\n",
    "                              ymin =min(df_raw$Value) , ymax =8,fill = Direction),alpha=.3)+\n",
    "scale_fill_manual(values = alpha(c(\"black\", \"grey\"), .3))+\n",
    "geom_line(data=df_raw,aes(x=df_raw$time2,y=scale(df_raw$Value)),color=\"#428a6f\",size=1.3)+\n",
    "geom_line(data=df_count,aes(x=df_count$time2,y=(-5+Count*1.5)/coef),color=\"#ff00a6\",size=1.5)+apatheme\n",
    "xlab(\"Time in seconds\")+\n",
    "  scale_y_continuous(\n",
    "    \n",
    "    # Features of the first axis\n",
    "    name = \"z-scores of Mean EDA\",\n",
    "    \n",
    "    # Add a second axis and specify its features\n",
    "    sec.axis = sec_axis(~.*coef, name=\"Stream\")\n",
    "  )+\n",
    "theme(axis.line.y.right = element_line(color = \"#ff00a6\"), \n",
    "       axis.ticks.y.right = element_line(color = \"#ff00a6\"),\n",
    "        axis.text.y.right = element_text(color = \"#ff00a6\"),\n",
    "     axis.title.y.right = element_text(color = \"#ff00a6\"))+\n",
    "theme(axis.line.y.left = element_line(color = \"#428a6f\"), \n",
    "       axis.ticks.y.left = element_line(color = \"#428a6f\"),\n",
    "        axis.text.y.left = element_text(color = \"#428a6f\"),\n",
    "     axis.title.y.left = element_text(color = \"#428a6f\"),legend.position=\"bottom\")"
   ]
  },
  {
   "cell_type": "code",
   "execution_count": null,
   "id": "993628da",
   "metadata": {},
   "outputs": [],
   "source": [
    "coef<-8\n",
    "\n",
    "ggplot(dfada)+\n",
    "geom_rect(data=dfada,aes(xmin = dfada$time2,xmax = end,\n",
    "                              ymin =min() , ymax =8,fill = Direction),alpha=.3) +\n",
    "scale_fill_manual(values = alpha(c(\"black\", \"grey\"), .3))+\n",
    "geom_line(data=df_raw,aes(x=df_raw$time2,y=scale(Value)),color=\"#428a6f\",size=1.3)+\n",
    "geom_line(data=df_count,aes(x=df_count$time2,y=(-5+Count*1.5)/coef),color=\"#ff00a6\",size=1.5)+apatheme+\n",
    "xlab(\"Time in seconds\")+\n",
    "  scale_y_continuous(\n",
    "    \n",
    "    # Features of the first axis\n",
    "    name = \"z-scores of Mean EDA\",\n",
    "    \n",
    "    # Add a second axis and specify its features\n",
    "    sec.axis = sec_axis(~.*coef, name=\"Stream\")\n",
    "  )+\n",
    "theme(axis.line.y.right = element_line(color = \"#ff00a6\"), \n",
    "       axis.ticks.y.right = element_line(color = \"#ff00a6\"),\n",
    "        axis.text.y.right = element_text(color = \"#ff00a6\"),\n",
    "     axis.title.y.right = element_text(color = \"#ff00a6\"))+\n",
    "theme(axis.line.y.left = element_line(color = \"#428a6f\"), \n",
    "       axis.ticks.y.left = element_line(color = \"#428a6f\"),\n",
    "        axis.text.y.left = element_text(color = \"#428a6f\"),\n",
    "     axis.title.y.left = element_text(color = \"#428a6f\"),legend.position=\"bottom\")\n",
    "\n",
    "#ggsave(\"./figures/Fig4.png\" ,width = 6, height=4,dpi = 600)"
   ]
  },
  {
   "cell_type": "code",
   "execution_count": null,
   "id": "5ad3b95c",
   "metadata": {},
   "outputs": [],
   "source": [
    "person<-\"1\"\n",
    "\n",
    "EDA_RAW_DF<-read.csv(str_c(\"./final test data/ID\",person,\"-adaptation.csv\"))\n",
    "#EDA_RAW_DF\n",
    "EDA_RAW_DF$time2<-anytime(EDA_RAW_DF$Time)\n",
    "EDA_RAW_DF<-EDA_RAW_DF%>%filter(SlopeEDA<10)\n",
    "EDA_raw<-read.csv(str_c(\"./data/ID\",person,\"-EDA.csv\"))\n",
    "count_df<-read.csv(str_c(\"./data/ID\",person,\"-visitorCount.csv\"))\n",
    "count_df<-count_df %>% filter(Time>min(EDA_RAW_DF$Time))%>% filter(Time<max(EDA_RAW_DF$Time))\n",
    "EDA_raw<-EDA_raw %>% filter(Time>min(EDA_RAW_DF$Time))%>% filter(Time<max(EDA_RAW_DF$Time))\n",
    "count_df$time2<-anytime(count_df$Time)\n",
    "\n",
    "EDA_raw$time2<-anytime(EDA_raw$Time)\n",
    "library(lubridate)\n",
    "#EDA_raw$time2<-second(EDA_raw$time2)-min(second(EDA_raw$time2))\n",
    "#EDA_RAW_DF$time2<-second(EDA_RAW_DF$time2)-min(second(EDA_RAW_DF$time2))\n"
   ]
  },
  {
   "cell_type": "code",
   "execution_count": null,
   "id": "fbe748ac",
   "metadata": {},
   "outputs": [],
   "source": [
    "EDA_raw$time2<-EDA_raw$time2-min(EDA_raw$time2)\n",
    "EDA_RAW_DF$time2<-EDA_RAW_DF$time2-min(EDA_RAW_DF$time2)\n",
    "count_df$time2<-count_df$time2-min(count_df$time2)\n",
    "EDA_RAW_DF$Direction<-ifelse(EDA_RAW_DF$Direction==\"less\",\"decreasing of Stream\",\"increasing of Stream\")"
   ]
  },
  {
   "cell_type": "code",
   "execution_count": null,
   "id": "93e5f1b6",
   "metadata": {},
   "outputs": [],
   "source": [
    "EDA_RAW_DF$Direction<-as.factor(EDA_RAW_DF$Direction)\n",
    "EDA_RAW_DF$end<-c(EDA_RAW_DF$time2[2:62],EDA_RAW_DF$time2[62])"
   ]
  },
  {
   "cell_type": "code",
   "execution_count": null,
   "id": "41ffd5e2",
   "metadata": {},
   "outputs": [],
   "source": [
    "min(count_df$Count)"
   ]
  },
  {
   "cell_type": "code",
   "execution_count": null,
   "id": "a8a98118",
   "metadata": {},
   "outputs": [],
   "source": [
    "coef<-8\n",
    "\n",
    "ggplot(EDA_RAW_DF)+\n",
    "geom_rect(data=EDA_RAW_DF,aes(xmin = time2,xmax = end,\n",
    "                              ymin =min(SlopeEDA) , ymax =8,fill = Direction),alpha=.3) +\n",
    "scale_fill_manual(values = alpha(c(\"black\", \"grey\"), .3))+\n",
    "geom_line(data=EDA_raw,aes(x=time2,y=scale(Value)),color=\"#428a6f\",size=1.3)+\n",
    "geom_line(data=count_df,aes(x=time2,y=(-5+Count*1.5)/coef),color=\"#ff00a6\",size=1.5)+apatheme+\n",
    "xlab(\"Time in seconds\")+\n",
    "  scale_y_continuous(\n",
    "    \n",
    "    # Features of the first axis\n",
    "    name = \"z-scores of Mean EDA\",\n",
    "    \n",
    "    # Add a second axis and specify its features\n",
    "    sec.axis = sec_axis(~.*coef, name=\"Stream\")\n",
    "  )+\n",
    "theme(axis.line.y.right = element_line(color = \"#ff00a6\"), \n",
    "       axis.ticks.y.right = element_line(color = \"#ff00a6\"),\n",
    "        axis.text.y.right = element_text(color = \"#ff00a6\"),\n",
    "     axis.title.y.right = element_text(color = \"#ff00a6\"))+\n",
    "theme(axis.line.y.left = element_line(color = \"#428a6f\"), \n",
    "       axis.ticks.y.left = element_line(color = \"#428a6f\"),\n",
    "        axis.text.y.left = element_text(color = \"#428a6f\"),\n",
    "     axis.title.y.left = element_text(color = \"#428a6f\"),legend.position=\"bottom\")\n",
    "\n",
    "ggsave(\"./figures/Fig4.png\" ,width = 6, height=4,dpi = 600)"
   ]
  },
  {
   "cell_type": "markdown",
   "id": "af0df858",
   "metadata": {},
   "source": [
    "## Old"
   ]
  },
  {
   "cell_type": "code",
   "execution_count": null,
   "id": "3543fc26",
   "metadata": {},
   "outputs": [],
   "source": [
    "t_non<-data.frame(coef(summary(model)))[2,]$t.value\n",
    "p_non<-data.frame(coef(summary(model)))[2,]$Pr...t..\n",
    "print(p_non)\n",
    "print(t_non)\n",
    "\n",
    "model <- lmer(EDATonic ~ Flow + NBackN + (1|PId), data= df%>%filter(BlockNumber==4)) #to run the model for Random Adaptation\n",
    "summary(model)\n",
    "\n",
    "x<-df%>%filter(BlockNumber==4)#get adaptation values\n",
    "\n",
    "df_m<-as.data.frame(coef(model)[1])\n",
    "df_m$PId<-rownames(df_m)\n",
    "\n",
    "x<-left_join(x,df_m,by=\"PId\")\n",
    "\n",
    "#calculate expected values\n",
    "x$intercept<-x$PId..Intercept.\n",
    "x$slope<-x$PId.Flow\n",
    "x$slopeNBackN<-x$PId.NBackN\n",
    "x$slopelowNBackN<-x$PId.Flow.NBackN\n",
    "x$expected <- predict(model,df%>%filter(BlockNumber==4)%>%select(PId,NBackN,Flow))\n",
    "#x$expected <- x$intercept + x$slope * x$Flow + x$BackLevel * x$slopeBackLevel\n",
    "# + x$slopeBackLevel* x$slopelowBackLevel + x$slopeBackLevel* x$slopelowBackLevel\n",
    "x$actual<-x[,colnames(x)==var]#get actual"
   ]
  },
  {
   "cell_type": "code",
   "execution_count": null,
   "id": "1ba6af84",
   "metadata": {},
   "outputs": [],
   "source": [
    "dfX <- gather(x, condition, measurement, expected:actual, factor_key=TRUE) #Run ANOVA on random adaptation\n",
    "ezANOVA(dfX, dv= measurement, wid = PId, within= condition, between = NBackN) "
   ]
  },
  {
   "cell_type": "code",
   "execution_count": null,
   "id": "397fe66c",
   "metadata": {},
   "outputs": [],
   "source": [
    "ggplot(x,aes(Flow,actual,group=PId,color=PId))+\n",
    "geom_line(alpha=.5)+\n",
    "geom_segment(data=x,aes(x = Flow, xend = Flow, y = actual, yend = expected),linetype=\"dashed\")+\n",
    "geom_point(data = x,aes(Flow,actual,color=PId),size=3)+\n",
    "geom_point(data = x,aes(Flow,expected,color=PId),shape=3,size=3)+\n",
    "apatheme+\n",
    "theme(legend.position=\"None\")+\n",
    "ylab(\"Tonic EDA\")+\n",
    "xlab(\"NPC Stream\")+\n",
    "scale_x_continuous(breaks=(seq(20,130,by=20)))+ \n",
    "geom_abline(aes(color = PId, intercept = intercept, slope = slope))+\n",
    "facet_wrap(~NBackN)"
   ]
  },
  {
   "cell_type": "code",
   "execution_count": null,
   "id": "865b892a",
   "metadata": {},
   "outputs": [],
   "source": [
    "model <- lmer(NBackAccuracy ~ Flow + (1|PId), data= df%>%filter(AdaptationStatus==1, NBackN==1)) #to run the model\n",
    "summary(model)\n",
    "df1<-df%>%filter(AdaptationStatus==2, NBackN==1)#get adaptation values\n",
    "dfX<-as.data.frame(coef(model)[1])\n",
    "dfX$PId<-rownames(dfX)\n",
    "df1<-left_join(df1,dfX,by=\"PId\")\n",
    "#calculate expected values\n",
    "df1$intercept<-df1$PId..Intercept.\n",
    "df1$slope<-df1$PId.Flow\n",
    "df1$slopeNBackN<-df1$PId.NBackN\n",
    "df1$expected <- predict(model, df1%>%select(PId,Flow))\n",
    "df1$actual<-df1[,colnames(df1)==\"NBackAccuracy\"] #get actual\n",
    "\n",
    "model <- lmer(NBackAccuracy ~ Flow + (1|PId), data= df%>%filter(AdaptationStatus==1, NBackN==2)) #to run the model\n",
    "summary(model)\n",
    "df2<-df%>%filter(AdaptationStatus==2, NBackN==2)#get adaptation values\n",
    "dfX<-as.data.frame(coef(model)[1])\n",
    "dfX$PId<-rownames(dfX)\n",
    "df2<-left_join(df2,dfX,by=\"PId\")\n",
    "#calculate expected values\n",
    "df2$intercept<-df2$PId..Intercept.\n",
    "df2$slope<-df2$PId.Flow\n",
    "df2$slopeNBackN<-df2$PId.NBackN\n",
    "df2$expected <- predict(model, df2%>%select(PId,Flow))\n",
    "df2$actual<-df2[,colnames(df2)==\"NBackAccuracy\"]#get actual\n",
    "\n",
    "model <- lmer(NBackAccuracy ~ Flow + (1|PId), data= df%>%filter(AdaptationStatus==1, NBackN==3)) #to run the model\n",
    "summary(model)\n",
    "df3<-df%>%filter(AdaptationStatus==2, NBackN==3)#get adaptation values\n",
    "dfX<-as.data.frame(coef(model)[1])\n",
    "dfX$PId<-rownames(dfX)\n",
    "df3<-left_join(df3,dfX,by=\"PId\")\n",
    "df3$intercept<-df3$PId..Intercept.\n",
    "df3$slope<-df3$PId.Flow\n",
    "df3$slopeNBackN<-df3$PId.NBackN\n",
    "df3$expected <- predict(model, df3%>%select(PId,Flow))\n",
    "df3$actual<-df3[,colnames(df3)==\"NBackAccuracy\"]#get actual\n",
    "\n",
    "x <- rbind(df1, df2)\n",
    "x <- rbind(x, df3)"
   ]
  }
 ],
 "metadata": {
  "kernelspec": {
   "display_name": "R",
   "language": "R",
   "name": "ir"
  },
  "language_info": {
   "codemirror_mode": "r",
   "file_extension": ".r",
   "mimetype": "text/x-r-source",
   "name": "R",
   "pygments_lexer": "r",
   "version": "4.2.0"
  }
 },
 "nbformat": 4,
 "nbformat_minor": 5
}
