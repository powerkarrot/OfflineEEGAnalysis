{
 "cells": [
  {
   "cell_type": "code",
   "execution_count": 1,
   "id": "d2d43896",
   "metadata": {},
   "outputs": [
    {
     "name": "stderr",
     "output_type": "stream",
     "text": [
      "Loading required package: lme4\n",
      "\n",
      "Loading required package: Matrix\n",
      "\n",
      "\n",
      "Attaching package: 'lmerTest'\n",
      "\n",
      "\n",
      "The following object is masked from 'package:lme4':\n",
      "\n",
      "    lmer\n",
      "\n",
      "\n",
      "The following object is masked from 'package:stats':\n",
      "\n",
      "    step\n",
      "\n",
      "\n",
      "── \u001b[1mAttaching packages\u001b[22m ─────────────────────────────────────────────────────────────────────────────── tidyverse 1.3.1 ──\n",
      "\n",
      "\u001b[32m✔\u001b[39m \u001b[34mggplot2\u001b[39m 3.3.6     \u001b[32m✔\u001b[39m \u001b[34mpurrr  \u001b[39m 0.3.4\n",
      "\u001b[32m✔\u001b[39m \u001b[34mtibble \u001b[39m 3.1.7     \u001b[32m✔\u001b[39m \u001b[34mdplyr  \u001b[39m 1.0.9\n",
      "\u001b[32m✔\u001b[39m \u001b[34mtidyr  \u001b[39m 1.2.0     \u001b[32m✔\u001b[39m \u001b[34mstringr\u001b[39m 1.4.0\n",
      "\u001b[32m✔\u001b[39m \u001b[34mreadr  \u001b[39m 2.1.2     \u001b[32m✔\u001b[39m \u001b[34mforcats\u001b[39m 0.5.1\n",
      "\n",
      "── \u001b[1mConflicts\u001b[22m ────────────────────────────────────────────────────────────────────────────────── tidyverse_conflicts() ──\n",
      "\u001b[31m✖\u001b[39m \u001b[34mtidyr\u001b[39m::\u001b[32mexpand()\u001b[39m masks \u001b[34mMatrix\u001b[39m::expand()\n",
      "\u001b[31m✖\u001b[39m \u001b[34mdplyr\u001b[39m::\u001b[32mfilter()\u001b[39m masks \u001b[34mstats\u001b[39m::filter()\n",
      "\u001b[31m✖\u001b[39m \u001b[34mdplyr\u001b[39m::\u001b[32mlag()\u001b[39m    masks \u001b[34mstats\u001b[39m::lag()\n",
      "\u001b[31m✖\u001b[39m \u001b[34mtidyr\u001b[39m::\u001b[32mpack()\u001b[39m   masks \u001b[34mMatrix\u001b[39m::pack()\n",
      "\u001b[31m✖\u001b[39m \u001b[34mtidyr\u001b[39m::\u001b[32munpack()\u001b[39m masks \u001b[34mMatrix\u001b[39m::unpack()\n",
      "\n",
      "Warning message:\n",
      "\"package 'LMERConvenienceFunctions' was built under R version 4.2.1\"\n",
      "Warning message:\n",
      "\"package 'predictmeans' was built under R version 4.2.1\"\n",
      "Loading required package: nlme\n",
      "\n",
      "\n",
      "Attaching package: 'nlme'\n",
      "\n",
      "\n",
      "The following object is masked from 'package:dplyr':\n",
      "\n",
      "    collapse\n",
      "\n",
      "\n",
      "The following object is masked from 'package:lme4':\n",
      "\n",
      "    lmList\n",
      "\n",
      "\n",
      "Loading required package: lmeInfo\n",
      "\n",
      "Warning message:\n",
      "\"package 'lmeInfo' was built under R version 4.2.1\"\n",
      "Loading required package: parallel\n",
      "\n",
      "Loading required package: carData\n",
      "\n",
      "lattice theme set by effectsTheme()\n",
      "See ?effectsTheme for details.\n",
      "\n"
     ]
    }
   ],
   "source": [
    "library(anytime)\n",
    "library(lmerTest)\n",
    "library(tidyverse)\n",
    "library(report)\n",
    "library(xtable)\n",
    "library(LMERConvenienceFunctions)\n",
    "library(lme4)\n",
    "library(ez)\n",
    "library(predictmeans)\n",
    "library(effects)\n",
    "library(ggplot2)\n",
    "library(tidyr)\n",
    "round_df <- function(df, digits) {\n",
    "  nums <- vapply(df, is.numeric, FUN.VALUE = logical(1))\n",
    "\n",
    "  df[,nums] <- round(df[,nums], digits = digits)\n",
    "\n",
    "  (df)\n",
    "}\n",
    "\n",
    "apatheme=theme_bw()+\n",
    "  theme(panel.grid.major=element_blank(),\n",
    "        panel.grid.minor=element_blank(),\n",
    "        panel.border=element_blank(),\n",
    "        axis.line=element_line(color=\"black\"),\n",
    "        text=element_text(size=10), #change writing size\n",
    "        #legend.title=element_blank(),\n",
    "       legend.position = \"top\")\n",
    "\n"
   ]
  },
  {
   "cell_type": "code",
   "execution_count": 6,
   "id": "a4a3fc0f",
   "metadata": {},
   "outputs": [],
   "source": [
    "df <- read.csv(\"./adaptivedf.csv\")\n",
    "df$PId <- factor(df$PId)\n",
    "#df$AdaptationStatus <- factor(df$AdaptationStatus)\n",
    "#df$BackLevel <- df$BackLevel\n",
    "#df$EDAMean<-scale(df$EDAMean)\n",
    "df$EDATonic<-scale(df$EDATonic)"
   ]
  },
  {
   "cell_type": "code",
   "execution_count": 7,
   "id": "ce2e7e38",
   "metadata": {},
   "outputs": [
    {
     "data": {
      "text/html": [
       "<table class=\"dataframe\">\n",
       "<caption>A data.frame: 20 × 18</caption>\n",
       "<thead>\n",
       "\t<tr><th scope=col>TimeStart</th><th scope=col>BlockNumber</th><th scope=col>AdaptationStatus</th><th scope=col>NBackN</th><th scope=col>TimeEnd</th><th scope=col>Duration</th><th scope=col>IsCorrect</th><th scope=col>NBackCorrect</th><th scope=col>NBackMissed</th><th scope=col>NBackTotal</th><th scope=col>NBackAccuracy</th><th scope=col>NBackTimePerBall</th><th scope=col>LiamsCountTotal</th><th scope=col>Flow</th><th scope=col>EDATonic</th><th scope=col>EDARaw</th><th scope=col>EDAPhasic</th><th scope=col>PId</th></tr>\n",
       "\t<tr><th scope=col>&lt;dbl&gt;</th><th scope=col>&lt;int&gt;</th><th scope=col>&lt;int&gt;</th><th scope=col>&lt;int&gt;</th><th scope=col>&lt;dbl&gt;</th><th scope=col>&lt;dbl&gt;</th><th scope=col>&lt;dbl&gt;</th><th scope=col>&lt;int&gt;</th><th scope=col>&lt;int&gt;</th><th scope=col>&lt;int&gt;</th><th scope=col>&lt;dbl&gt;</th><th scope=col>&lt;dbl&gt;</th><th scope=col>&lt;int&gt;</th><th scope=col>&lt;dbl&gt;</th><th scope=col>&lt;dbl[,1]&gt;</th><th scope=col>&lt;dbl&gt;</th><th scope=col>&lt;dbl&gt;</th><th scope=col>&lt;fct&gt;</th></tr>\n",
       "</thead>\n",
       "<tbody>\n",
       "\t<tr><td>1660049372</td><td>4</td><td>1</td><td>1</td><td>1660049852</td><td>480.0000</td><td>0.9451613</td><td>293</td><td>0</td><td>310</td><td>94.51613</td><td>1.548387</td><td> 905</td><td>113.12500</td><td>-0.73279996</td><td>1.5882334</td><td>-4.802986e-05</td><td>1001</td></tr>\n",
       "\t<tr><td>1660050104</td><td>2</td><td>1</td><td>1</td><td>1660050584</td><td>480.0000</td><td>0.9608939</td><td>344</td><td>0</td><td>358</td><td>96.08939</td><td>1.340782</td><td> 707</td><td> 88.37500</td><td>-0.76410339</td><td>1.5170382</td><td> 1.655354e-05</td><td>1001</td></tr>\n",
       "\t<tr><td>1660050846</td><td>3</td><td>1</td><td>1</td><td>1660051326</td><td>480.0000</td><td>0.9623656</td><td>358</td><td>0</td><td>372</td><td>96.23656</td><td>1.290323</td><td>1175</td><td>146.87500</td><td>-0.77178373</td><td>1.4995147</td><td>-2.318148e-05</td><td>1001</td></tr>\n",
       "\t<tr><td>1660051574</td><td>1</td><td>1</td><td>1</td><td>1660052054</td><td>480.0000</td><td>0.9417476</td><td>291</td><td>1</td><td>310</td><td>93.87097</td><td>1.553398</td><td> 198</td><td> 24.75000</td><td>-0.73191068</td><td>1.5903491</td><td> 4.331147e-05</td><td>1001</td></tr>\n",
       "\t<tr><td>1660052300</td><td>5</td><td>2</td><td>1</td><td>1660052780</td><td>480.0000</td><td>0.9660057</td><td>341</td><td>1</td><td>354</td><td>96.32768</td><td>1.359773</td><td> 861</td><td>107.62500</td><td>-0.83055379</td><td>1.3657345</td><td>-2.261807e-05</td><td>1001</td></tr>\n",
       "\t<tr><td>1660119332</td><td>4</td><td>1</td><td>3</td><td>1660119812</td><td>480.0000</td><td>0.8367347</td><td>164</td><td>2</td><td>198</td><td>82.82828</td><td>2.448980</td><td> 857</td><td>107.12500</td><td> 0.63760233</td><td>4.7077719</td><td>-1.253512e-04</td><td>3001</td></tr>\n",
       "\t<tr><td>1660120027</td><td>3</td><td>1</td><td>3</td><td>1660120507</td><td>480.0000</td><td>0.8050000</td><td>161</td><td>2</td><td>202</td><td>79.70297</td><td>2.400000</td><td>1193</td><td>149.12500</td><td> 1.64402968</td><td>6.9994760</td><td> 5.240321e-04</td><td>3001</td></tr>\n",
       "\t<tr><td>1660120877</td><td>1</td><td>1</td><td>3</td><td>1660121357</td><td>480.0000</td><td>0.8235294</td><td>154</td><td>0</td><td>187</td><td>82.35294</td><td>2.566845</td><td> 196</td><td> 24.50000</td><td> 1.88407357</td><td>7.5452539</td><td>-1.394780e-04</td><td>3001</td></tr>\n",
       "\t<tr><td>1660121675</td><td>5</td><td>2</td><td>3</td><td>1660122155</td><td>480.0000</td><td>0.8167539</td><td>156</td><td>4</td><td>195</td><td>80.00000</td><td>2.513089</td><td> 908</td><td>113.50000</td><td> 1.66135086</td><td>7.0390594</td><td> 6.771048e-04</td><td>3001</td></tr>\n",
       "\t<tr><td>1660122367</td><td>2</td><td>1</td><td>3</td><td>1660122847</td><td>480.0000</td><td>0.8602151</td><td>160</td><td>4</td><td>190</td><td>84.21053</td><td>2.580645</td><td> 700</td><td> 87.50000</td><td> 1.33945806</td><td>6.3058301</td><td> 2.622032e-03</td><td>3001</td></tr>\n",
       "\t<tr><td>1660036399</td><td>1</td><td>1</td><td>2</td><td>1660036879</td><td>480.0000</td><td>0.6869301</td><td>226</td><td>0</td><td>329</td><td>68.69301</td><td>1.458967</td><td> 200</td><td> 25.00000</td><td> 0.89825140</td><td>5.2990451</td><td>-2.199766e-03</td><td>2003</td></tr>\n",
       "\t<tr><td>1660037150</td><td>4</td><td>1</td><td>2</td><td>1660037630</td><td>480.0000</td><td>0.6963855</td><td>289</td><td>0</td><td>415</td><td>69.63855</td><td>1.156627</td><td> 596</td><td> 74.50000</td><td> 0.18514234</td><td>3.6774020</td><td>-5.048066e-04</td><td>2003</td></tr>\n",
       "\t<tr><td>1660037904</td><td>3</td><td>1</td><td>2</td><td>1660038384</td><td>480.0000</td><td>0.7506053</td><td>310</td><td>0</td><td>413</td><td>75.06053</td><td>1.162228</td><td>1184</td><td>148.00000</td><td>-0.17722177</td><td>2.8516204</td><td>-1.392220e-03</td><td>2003</td></tr>\n",
       "\t<tr><td>1660038815</td><td>5</td><td>2</td><td>2</td><td>1660039295</td><td>480.0000</td><td>0.7168675</td><td>238</td><td>0</td><td>332</td><td>71.68675</td><td>1.445783</td><td> 636</td><td> 79.50000</td><td> 0.12847487</td><td>3.5483294</td><td>-5.778454e-04</td><td>2003</td></tr>\n",
       "\t<tr><td>1660039635</td><td>2</td><td>1</td><td>2</td><td>1660040115</td><td>480.0000</td><td>0.6494253</td><td>226</td><td>0</td><td>348</td><td>64.94253</td><td>1.379310</td><td> 696</td><td> 87.00000</td><td> 0.04350338</td><td>3.3550632</td><td>-7.939107e-03</td><td>2003</td></tr>\n",
       "\t<tr><td>1660132114</td><td>3</td><td>1</td><td>2</td><td>1660132594</td><td>480.0257</td><td>0.8262195</td><td>271</td><td>0</td><td>328</td><td>82.62195</td><td>1.463493</td><td>1180</td><td>147.49210</td><td>-1.05219826</td><td>0.8611662</td><td>-2.953597e-05</td><td>2001</td></tr>\n",
       "\t<tr><td>1660132915</td><td>1</td><td>1</td><td>2</td><td>1660133395</td><td>480.0112</td><td>0.8536585</td><td>280</td><td>0</td><td>328</td><td>85.36585</td><td>1.463449</td><td> 198</td><td> 24.74942</td><td>-0.88488824</td><td>1.2420954</td><td> 3.131608e-05</td><td>2001</td></tr>\n",
       "\t<tr><td>1660133427</td><td>2</td><td>1</td><td>2</td><td>1660133907</td><td>480.0184</td><td>0.8367953</td><td>282</td><td>0</td><td>337</td><td>83.67953</td><td>1.424387</td><td> 705</td><td> 88.12162</td><td>-0.92697923</td><td>1.1462766</td><td> 2.942921e-05</td><td>2001</td></tr>\n",
       "\t<tr><td>1660134445</td><td>4</td><td>1</td><td>2</td><td>1660134925</td><td>480.0212</td><td>0.8056426</td><td>257</td><td>1</td><td>320</td><td>80.31250</td><td>1.504769</td><td> 855</td><td>106.87029</td><td>-0.81875454</td><td>1.3925913</td><td>-2.114995e-05</td><td>2001</td></tr>\n",
       "\t<tr><td>1660134945</td><td>5</td><td>2</td><td>2</td><td>1660135425</td><td>480.0226</td><td>0.8808933</td><td>355</td><td>1</td><td>404</td><td>87.87129</td><td>1.191123</td><td> 828</td><td>103.49513</td><td>-0.73069291</td><td>1.5928674</td><td>-2.116848e-04</td><td>2001</td></tr>\n",
       "</tbody>\n",
       "</table>\n"
      ],
      "text/latex": [
       "A data.frame: 20 × 18\n",
       "\\begin{tabular}{llllllllllllllllll}\n",
       " TimeStart & BlockNumber & AdaptationStatus & NBackN & TimeEnd & Duration & IsCorrect & NBackCorrect & NBackMissed & NBackTotal & NBackAccuracy & NBackTimePerBall & LiamsCountTotal & Flow & EDATonic & EDARaw & EDAPhasic & PId\\\\\n",
       " <dbl> & <int> & <int> & <int> & <dbl> & <dbl> & <dbl> & <int> & <int> & <int> & <dbl> & <dbl> & <int> & <dbl> & <dbl{[},1{]}> & <dbl> & <dbl> & <fct>\\\\\n",
       "\\hline\n",
       "\t 1660049372 & 4 & 1 & 1 & 1660049852 & 480.0000 & 0.9451613 & 293 & 0 & 310 & 94.51613 & 1.548387 &  905 & 113.12500 & -0.73279996 & 1.5882334 & -4.802986e-05 & 1001\\\\\n",
       "\t 1660050104 & 2 & 1 & 1 & 1660050584 & 480.0000 & 0.9608939 & 344 & 0 & 358 & 96.08939 & 1.340782 &  707 &  88.37500 & -0.76410339 & 1.5170382 &  1.655354e-05 & 1001\\\\\n",
       "\t 1660050846 & 3 & 1 & 1 & 1660051326 & 480.0000 & 0.9623656 & 358 & 0 & 372 & 96.23656 & 1.290323 & 1175 & 146.87500 & -0.77178373 & 1.4995147 & -2.318148e-05 & 1001\\\\\n",
       "\t 1660051574 & 1 & 1 & 1 & 1660052054 & 480.0000 & 0.9417476 & 291 & 1 & 310 & 93.87097 & 1.553398 &  198 &  24.75000 & -0.73191068 & 1.5903491 &  4.331147e-05 & 1001\\\\\n",
       "\t 1660052300 & 5 & 2 & 1 & 1660052780 & 480.0000 & 0.9660057 & 341 & 1 & 354 & 96.32768 & 1.359773 &  861 & 107.62500 & -0.83055379 & 1.3657345 & -2.261807e-05 & 1001\\\\\n",
       "\t 1660119332 & 4 & 1 & 3 & 1660119812 & 480.0000 & 0.8367347 & 164 & 2 & 198 & 82.82828 & 2.448980 &  857 & 107.12500 &  0.63760233 & 4.7077719 & -1.253512e-04 & 3001\\\\\n",
       "\t 1660120027 & 3 & 1 & 3 & 1660120507 & 480.0000 & 0.8050000 & 161 & 2 & 202 & 79.70297 & 2.400000 & 1193 & 149.12500 &  1.64402968 & 6.9994760 &  5.240321e-04 & 3001\\\\\n",
       "\t 1660120877 & 1 & 1 & 3 & 1660121357 & 480.0000 & 0.8235294 & 154 & 0 & 187 & 82.35294 & 2.566845 &  196 &  24.50000 &  1.88407357 & 7.5452539 & -1.394780e-04 & 3001\\\\\n",
       "\t 1660121675 & 5 & 2 & 3 & 1660122155 & 480.0000 & 0.8167539 & 156 & 4 & 195 & 80.00000 & 2.513089 &  908 & 113.50000 &  1.66135086 & 7.0390594 &  6.771048e-04 & 3001\\\\\n",
       "\t 1660122367 & 2 & 1 & 3 & 1660122847 & 480.0000 & 0.8602151 & 160 & 4 & 190 & 84.21053 & 2.580645 &  700 &  87.50000 &  1.33945806 & 6.3058301 &  2.622032e-03 & 3001\\\\\n",
       "\t 1660036399 & 1 & 1 & 2 & 1660036879 & 480.0000 & 0.6869301 & 226 & 0 & 329 & 68.69301 & 1.458967 &  200 &  25.00000 &  0.89825140 & 5.2990451 & -2.199766e-03 & 2003\\\\\n",
       "\t 1660037150 & 4 & 1 & 2 & 1660037630 & 480.0000 & 0.6963855 & 289 & 0 & 415 & 69.63855 & 1.156627 &  596 &  74.50000 &  0.18514234 & 3.6774020 & -5.048066e-04 & 2003\\\\\n",
       "\t 1660037904 & 3 & 1 & 2 & 1660038384 & 480.0000 & 0.7506053 & 310 & 0 & 413 & 75.06053 & 1.162228 & 1184 & 148.00000 & -0.17722177 & 2.8516204 & -1.392220e-03 & 2003\\\\\n",
       "\t 1660038815 & 5 & 2 & 2 & 1660039295 & 480.0000 & 0.7168675 & 238 & 0 & 332 & 71.68675 & 1.445783 &  636 &  79.50000 &  0.12847487 & 3.5483294 & -5.778454e-04 & 2003\\\\\n",
       "\t 1660039635 & 2 & 1 & 2 & 1660040115 & 480.0000 & 0.6494253 & 226 & 0 & 348 & 64.94253 & 1.379310 &  696 &  87.00000 &  0.04350338 & 3.3550632 & -7.939107e-03 & 2003\\\\\n",
       "\t 1660132114 & 3 & 1 & 2 & 1660132594 & 480.0257 & 0.8262195 & 271 & 0 & 328 & 82.62195 & 1.463493 & 1180 & 147.49210 & -1.05219826 & 0.8611662 & -2.953597e-05 & 2001\\\\\n",
       "\t 1660132915 & 1 & 1 & 2 & 1660133395 & 480.0112 & 0.8536585 & 280 & 0 & 328 & 85.36585 & 1.463449 &  198 &  24.74942 & -0.88488824 & 1.2420954 &  3.131608e-05 & 2001\\\\\n",
       "\t 1660133427 & 2 & 1 & 2 & 1660133907 & 480.0184 & 0.8367953 & 282 & 0 & 337 & 83.67953 & 1.424387 &  705 &  88.12162 & -0.92697923 & 1.1462766 &  2.942921e-05 & 2001\\\\\n",
       "\t 1660134445 & 4 & 1 & 2 & 1660134925 & 480.0212 & 0.8056426 & 257 & 1 & 320 & 80.31250 & 1.504769 &  855 & 106.87029 & -0.81875454 & 1.3925913 & -2.114995e-05 & 2001\\\\\n",
       "\t 1660134945 & 5 & 2 & 2 & 1660135425 & 480.0226 & 0.8808933 & 355 & 1 & 404 & 87.87129 & 1.191123 &  828 & 103.49513 & -0.73069291 & 1.5928674 & -2.116848e-04 & 2001\\\\\n",
       "\\end{tabular}\n"
      ],
      "text/markdown": [
       "\n",
       "A data.frame: 20 × 18\n",
       "\n",
       "| TimeStart &lt;dbl&gt; | BlockNumber &lt;int&gt; | AdaptationStatus &lt;int&gt; | NBackN &lt;int&gt; | TimeEnd &lt;dbl&gt; | Duration &lt;dbl&gt; | IsCorrect &lt;dbl&gt; | NBackCorrect &lt;int&gt; | NBackMissed &lt;int&gt; | NBackTotal &lt;int&gt; | NBackAccuracy &lt;dbl&gt; | NBackTimePerBall &lt;dbl&gt; | LiamsCountTotal &lt;int&gt; | Flow &lt;dbl&gt; | EDATonic &lt;dbl[,1]&gt; | EDARaw &lt;dbl&gt; | EDAPhasic &lt;dbl&gt; | PId &lt;fct&gt; |\n",
       "|---|---|---|---|---|---|---|---|---|---|---|---|---|---|---|---|---|---|\n",
       "| 1660049372 | 4 | 1 | 1 | 1660049852 | 480.0000 | 0.9451613 | 293 | 0 | 310 | 94.51613 | 1.548387 |  905 | 113.12500 | -0.73279996 | 1.5882334 | -4.802986e-05 | 1001 |\n",
       "| 1660050104 | 2 | 1 | 1 | 1660050584 | 480.0000 | 0.9608939 | 344 | 0 | 358 | 96.08939 | 1.340782 |  707 |  88.37500 | -0.76410339 | 1.5170382 |  1.655354e-05 | 1001 |\n",
       "| 1660050846 | 3 | 1 | 1 | 1660051326 | 480.0000 | 0.9623656 | 358 | 0 | 372 | 96.23656 | 1.290323 | 1175 | 146.87500 | -0.77178373 | 1.4995147 | -2.318148e-05 | 1001 |\n",
       "| 1660051574 | 1 | 1 | 1 | 1660052054 | 480.0000 | 0.9417476 | 291 | 1 | 310 | 93.87097 | 1.553398 |  198 |  24.75000 | -0.73191068 | 1.5903491 |  4.331147e-05 | 1001 |\n",
       "| 1660052300 | 5 | 2 | 1 | 1660052780 | 480.0000 | 0.9660057 | 341 | 1 | 354 | 96.32768 | 1.359773 |  861 | 107.62500 | -0.83055379 | 1.3657345 | -2.261807e-05 | 1001 |\n",
       "| 1660119332 | 4 | 1 | 3 | 1660119812 | 480.0000 | 0.8367347 | 164 | 2 | 198 | 82.82828 | 2.448980 |  857 | 107.12500 |  0.63760233 | 4.7077719 | -1.253512e-04 | 3001 |\n",
       "| 1660120027 | 3 | 1 | 3 | 1660120507 | 480.0000 | 0.8050000 | 161 | 2 | 202 | 79.70297 | 2.400000 | 1193 | 149.12500 |  1.64402968 | 6.9994760 |  5.240321e-04 | 3001 |\n",
       "| 1660120877 | 1 | 1 | 3 | 1660121357 | 480.0000 | 0.8235294 | 154 | 0 | 187 | 82.35294 | 2.566845 |  196 |  24.50000 |  1.88407357 | 7.5452539 | -1.394780e-04 | 3001 |\n",
       "| 1660121675 | 5 | 2 | 3 | 1660122155 | 480.0000 | 0.8167539 | 156 | 4 | 195 | 80.00000 | 2.513089 |  908 | 113.50000 |  1.66135086 | 7.0390594 |  6.771048e-04 | 3001 |\n",
       "| 1660122367 | 2 | 1 | 3 | 1660122847 | 480.0000 | 0.8602151 | 160 | 4 | 190 | 84.21053 | 2.580645 |  700 |  87.50000 |  1.33945806 | 6.3058301 |  2.622032e-03 | 3001 |\n",
       "| 1660036399 | 1 | 1 | 2 | 1660036879 | 480.0000 | 0.6869301 | 226 | 0 | 329 | 68.69301 | 1.458967 |  200 |  25.00000 |  0.89825140 | 5.2990451 | -2.199766e-03 | 2003 |\n",
       "| 1660037150 | 4 | 1 | 2 | 1660037630 | 480.0000 | 0.6963855 | 289 | 0 | 415 | 69.63855 | 1.156627 |  596 |  74.50000 |  0.18514234 | 3.6774020 | -5.048066e-04 | 2003 |\n",
       "| 1660037904 | 3 | 1 | 2 | 1660038384 | 480.0000 | 0.7506053 | 310 | 0 | 413 | 75.06053 | 1.162228 | 1184 | 148.00000 | -0.17722177 | 2.8516204 | -1.392220e-03 | 2003 |\n",
       "| 1660038815 | 5 | 2 | 2 | 1660039295 | 480.0000 | 0.7168675 | 238 | 0 | 332 | 71.68675 | 1.445783 |  636 |  79.50000 |  0.12847487 | 3.5483294 | -5.778454e-04 | 2003 |\n",
       "| 1660039635 | 2 | 1 | 2 | 1660040115 | 480.0000 | 0.6494253 | 226 | 0 | 348 | 64.94253 | 1.379310 |  696 |  87.00000 |  0.04350338 | 3.3550632 | -7.939107e-03 | 2003 |\n",
       "| 1660132114 | 3 | 1 | 2 | 1660132594 | 480.0257 | 0.8262195 | 271 | 0 | 328 | 82.62195 | 1.463493 | 1180 | 147.49210 | -1.05219826 | 0.8611662 | -2.953597e-05 | 2001 |\n",
       "| 1660132915 | 1 | 1 | 2 | 1660133395 | 480.0112 | 0.8536585 | 280 | 0 | 328 | 85.36585 | 1.463449 |  198 |  24.74942 | -0.88488824 | 1.2420954 |  3.131608e-05 | 2001 |\n",
       "| 1660133427 | 2 | 1 | 2 | 1660133907 | 480.0184 | 0.8367953 | 282 | 0 | 337 | 83.67953 | 1.424387 |  705 |  88.12162 | -0.92697923 | 1.1462766 |  2.942921e-05 | 2001 |\n",
       "| 1660134445 | 4 | 1 | 2 | 1660134925 | 480.0212 | 0.8056426 | 257 | 1 | 320 | 80.31250 | 1.504769 |  855 | 106.87029 | -0.81875454 | 1.3925913 | -2.114995e-05 | 2001 |\n",
       "| 1660134945 | 5 | 2 | 2 | 1660135425 | 480.0226 | 0.8808933 | 355 | 1 | 404 | 87.87129 | 1.191123 |  828 | 103.49513 | -0.73069291 | 1.5928674 | -2.116848e-04 | 2001 |\n",
       "\n"
      ],
      "text/plain": [
       "   TimeStart  BlockNumber AdaptationStatus NBackN TimeEnd    Duration IsCorrect\n",
       "1  1660049372 4           1                1      1660049852 480.0000 0.9451613\n",
       "2  1660050104 2           1                1      1660050584 480.0000 0.9608939\n",
       "3  1660050846 3           1                1      1660051326 480.0000 0.9623656\n",
       "4  1660051574 1           1                1      1660052054 480.0000 0.9417476\n",
       "5  1660052300 5           2                1      1660052780 480.0000 0.9660057\n",
       "6  1660119332 4           1                3      1660119812 480.0000 0.8367347\n",
       "7  1660120027 3           1                3      1660120507 480.0000 0.8050000\n",
       "8  1660120877 1           1                3      1660121357 480.0000 0.8235294\n",
       "9  1660121675 5           2                3      1660122155 480.0000 0.8167539\n",
       "10 1660122367 2           1                3      1660122847 480.0000 0.8602151\n",
       "11 1660036399 1           1                2      1660036879 480.0000 0.6869301\n",
       "12 1660037150 4           1                2      1660037630 480.0000 0.6963855\n",
       "13 1660037904 3           1                2      1660038384 480.0000 0.7506053\n",
       "14 1660038815 5           2                2      1660039295 480.0000 0.7168675\n",
       "15 1660039635 2           1                2      1660040115 480.0000 0.6494253\n",
       "16 1660132114 3           1                2      1660132594 480.0257 0.8262195\n",
       "17 1660132915 1           1                2      1660133395 480.0112 0.8536585\n",
       "18 1660133427 2           1                2      1660133907 480.0184 0.8367953\n",
       "19 1660134445 4           1                2      1660134925 480.0212 0.8056426\n",
       "20 1660134945 5           2                2      1660135425 480.0226 0.8808933\n",
       "   NBackCorrect NBackMissed NBackTotal NBackAccuracy NBackTimePerBall\n",
       "1  293          0           310        94.51613      1.548387        \n",
       "2  344          0           358        96.08939      1.340782        \n",
       "3  358          0           372        96.23656      1.290323        \n",
       "4  291          1           310        93.87097      1.553398        \n",
       "5  341          1           354        96.32768      1.359773        \n",
       "6  164          2           198        82.82828      2.448980        \n",
       "7  161          2           202        79.70297      2.400000        \n",
       "8  154          0           187        82.35294      2.566845        \n",
       "9  156          4           195        80.00000      2.513089        \n",
       "10 160          4           190        84.21053      2.580645        \n",
       "11 226          0           329        68.69301      1.458967        \n",
       "12 289          0           415        69.63855      1.156627        \n",
       "13 310          0           413        75.06053      1.162228        \n",
       "14 238          0           332        71.68675      1.445783        \n",
       "15 226          0           348        64.94253      1.379310        \n",
       "16 271          0           328        82.62195      1.463493        \n",
       "17 280          0           328        85.36585      1.463449        \n",
       "18 282          0           337        83.67953      1.424387        \n",
       "19 257          1           320        80.31250      1.504769        \n",
       "20 355          1           404        87.87129      1.191123        \n",
       "   LiamsCountTotal Flow      EDATonic    EDARaw    EDAPhasic     PId \n",
       "1   905            113.12500 -0.73279996 1.5882334 -4.802986e-05 1001\n",
       "2   707             88.37500 -0.76410339 1.5170382  1.655354e-05 1001\n",
       "3  1175            146.87500 -0.77178373 1.4995147 -2.318148e-05 1001\n",
       "4   198             24.75000 -0.73191068 1.5903491  4.331147e-05 1001\n",
       "5   861            107.62500 -0.83055379 1.3657345 -2.261807e-05 1001\n",
       "6   857            107.12500  0.63760233 4.7077719 -1.253512e-04 3001\n",
       "7  1193            149.12500  1.64402968 6.9994760  5.240321e-04 3001\n",
       "8   196             24.50000  1.88407357 7.5452539 -1.394780e-04 3001\n",
       "9   908            113.50000  1.66135086 7.0390594  6.771048e-04 3001\n",
       "10  700             87.50000  1.33945806 6.3058301  2.622032e-03 3001\n",
       "11  200             25.00000  0.89825140 5.2990451 -2.199766e-03 2003\n",
       "12  596             74.50000  0.18514234 3.6774020 -5.048066e-04 2003\n",
       "13 1184            148.00000 -0.17722177 2.8516204 -1.392220e-03 2003\n",
       "14  636             79.50000  0.12847487 3.5483294 -5.778454e-04 2003\n",
       "15  696             87.00000  0.04350338 3.3550632 -7.939107e-03 2003\n",
       "16 1180            147.49210 -1.05219826 0.8611662 -2.953597e-05 2001\n",
       "17  198             24.74942 -0.88488824 1.2420954  3.131608e-05 2001\n",
       "18  705             88.12162 -0.92697923 1.1462766  2.942921e-05 2001\n",
       "19  855            106.87029 -0.81875454 1.3925913 -2.114995e-05 2001\n",
       "20  828            103.49513 -0.73069291 1.5928674 -2.116848e-04 2001"
      ]
     },
     "metadata": {},
     "output_type": "display_data"
    }
   ],
   "source": [
    "df"
   ]
  },
  {
   "cell_type": "code",
   "execution_count": 8,
   "id": "fe41cca4",
   "metadata": {},
   "outputs": [
    {
     "data": {
      "text/html": [
       "<table class=\"dataframe\">\n",
       "<caption>A data.frame: 6 × 18</caption>\n",
       "<thead>\n",
       "\t<tr><th></th><th scope=col>TimeStart</th><th scope=col>BlockNumber</th><th scope=col>AdaptationStatus</th><th scope=col>NBackN</th><th scope=col>TimeEnd</th><th scope=col>Duration</th><th scope=col>IsCorrect</th><th scope=col>NBackCorrect</th><th scope=col>NBackMissed</th><th scope=col>NBackTotal</th><th scope=col>NBackAccuracy</th><th scope=col>NBackTimePerBall</th><th scope=col>LiamsCountTotal</th><th scope=col>Flow</th><th scope=col>EDATonic</th><th scope=col>EDARaw</th><th scope=col>EDAPhasic</th><th scope=col>PId</th></tr>\n",
       "\t<tr><th></th><th scope=col>&lt;dbl&gt;</th><th scope=col>&lt;int&gt;</th><th scope=col>&lt;int&gt;</th><th scope=col>&lt;int&gt;</th><th scope=col>&lt;dbl&gt;</th><th scope=col>&lt;dbl&gt;</th><th scope=col>&lt;dbl&gt;</th><th scope=col>&lt;int&gt;</th><th scope=col>&lt;int&gt;</th><th scope=col>&lt;int&gt;</th><th scope=col>&lt;dbl&gt;</th><th scope=col>&lt;dbl&gt;</th><th scope=col>&lt;int&gt;</th><th scope=col>&lt;dbl&gt;</th><th scope=col>&lt;dbl[,1]&gt;</th><th scope=col>&lt;dbl&gt;</th><th scope=col>&lt;dbl&gt;</th><th scope=col>&lt;fct&gt;</th></tr>\n",
       "</thead>\n",
       "<tbody>\n",
       "\t<tr><th scope=row>1</th><td>1660049372</td><td>4</td><td>1</td><td>1</td><td>1660049852</td><td>480</td><td>0.9451613</td><td>293</td><td>0</td><td>310</td><td>94.51613</td><td>1.548387</td><td> 905</td><td>113.125</td><td>-0.7328000</td><td>1.588233</td><td>-4.802986e-05</td><td>1001</td></tr>\n",
       "\t<tr><th scope=row>2</th><td>1660050104</td><td>2</td><td>1</td><td>1</td><td>1660050584</td><td>480</td><td>0.9608939</td><td>344</td><td>0</td><td>358</td><td>96.08939</td><td>1.340782</td><td> 707</td><td> 88.375</td><td>-0.7641034</td><td>1.517038</td><td> 1.655354e-05</td><td>1001</td></tr>\n",
       "\t<tr><th scope=row>3</th><td>1660050846</td><td>3</td><td>1</td><td>1</td><td>1660051326</td><td>480</td><td>0.9623656</td><td>358</td><td>0</td><td>372</td><td>96.23656</td><td>1.290323</td><td>1175</td><td>146.875</td><td>-0.7717837</td><td>1.499515</td><td>-2.318148e-05</td><td>1001</td></tr>\n",
       "\t<tr><th scope=row>4</th><td>1660051574</td><td>1</td><td>1</td><td>1</td><td>1660052054</td><td>480</td><td>0.9417476</td><td>291</td><td>1</td><td>310</td><td>93.87097</td><td>1.553398</td><td> 198</td><td> 24.750</td><td>-0.7319107</td><td>1.590349</td><td> 4.331147e-05</td><td>1001</td></tr>\n",
       "\t<tr><th scope=row>5</th><td>1660119332</td><td>4</td><td>1</td><td>3</td><td>1660119812</td><td>480</td><td>0.8367347</td><td>164</td><td>2</td><td>198</td><td>82.82828</td><td>2.448980</td><td> 857</td><td>107.125</td><td> 0.6376023</td><td>4.707772</td><td>-1.253512e-04</td><td>3001</td></tr>\n",
       "\t<tr><th scope=row>6</th><td>1660120027</td><td>3</td><td>1</td><td>3</td><td>1660120507</td><td>480</td><td>0.8050000</td><td>161</td><td>2</td><td>202</td><td>79.70297</td><td>2.400000</td><td>1193</td><td>149.125</td><td> 1.6440297</td><td>6.999476</td><td> 5.240321e-04</td><td>3001</td></tr>\n",
       "</tbody>\n",
       "</table>\n"
      ],
      "text/latex": [
       "A data.frame: 6 × 18\n",
       "\\begin{tabular}{r|llllllllllllllllll}\n",
       "  & TimeStart & BlockNumber & AdaptationStatus & NBackN & TimeEnd & Duration & IsCorrect & NBackCorrect & NBackMissed & NBackTotal & NBackAccuracy & NBackTimePerBall & LiamsCountTotal & Flow & EDATonic & EDARaw & EDAPhasic & PId\\\\\n",
       "  & <dbl> & <int> & <int> & <int> & <dbl> & <dbl> & <dbl> & <int> & <int> & <int> & <dbl> & <dbl> & <int> & <dbl> & <dbl{[},1{]}> & <dbl> & <dbl> & <fct>\\\\\n",
       "\\hline\n",
       "\t1 & 1660049372 & 4 & 1 & 1 & 1660049852 & 480 & 0.9451613 & 293 & 0 & 310 & 94.51613 & 1.548387 &  905 & 113.125 & -0.7328000 & 1.588233 & -4.802986e-05 & 1001\\\\\n",
       "\t2 & 1660050104 & 2 & 1 & 1 & 1660050584 & 480 & 0.9608939 & 344 & 0 & 358 & 96.08939 & 1.340782 &  707 &  88.375 & -0.7641034 & 1.517038 &  1.655354e-05 & 1001\\\\\n",
       "\t3 & 1660050846 & 3 & 1 & 1 & 1660051326 & 480 & 0.9623656 & 358 & 0 & 372 & 96.23656 & 1.290323 & 1175 & 146.875 & -0.7717837 & 1.499515 & -2.318148e-05 & 1001\\\\\n",
       "\t4 & 1660051574 & 1 & 1 & 1 & 1660052054 & 480 & 0.9417476 & 291 & 1 & 310 & 93.87097 & 1.553398 &  198 &  24.750 & -0.7319107 & 1.590349 &  4.331147e-05 & 1001\\\\\n",
       "\t5 & 1660119332 & 4 & 1 & 3 & 1660119812 & 480 & 0.8367347 & 164 & 2 & 198 & 82.82828 & 2.448980 &  857 & 107.125 &  0.6376023 & 4.707772 & -1.253512e-04 & 3001\\\\\n",
       "\t6 & 1660120027 & 3 & 1 & 3 & 1660120507 & 480 & 0.8050000 & 161 & 2 & 202 & 79.70297 & 2.400000 & 1193 & 149.125 &  1.6440297 & 6.999476 &  5.240321e-04 & 3001\\\\\n",
       "\\end{tabular}\n"
      ],
      "text/markdown": [
       "\n",
       "A data.frame: 6 × 18\n",
       "\n",
       "| <!--/--> | TimeStart &lt;dbl&gt; | BlockNumber &lt;int&gt; | AdaptationStatus &lt;int&gt; | NBackN &lt;int&gt; | TimeEnd &lt;dbl&gt; | Duration &lt;dbl&gt; | IsCorrect &lt;dbl&gt; | NBackCorrect &lt;int&gt; | NBackMissed &lt;int&gt; | NBackTotal &lt;int&gt; | NBackAccuracy &lt;dbl&gt; | NBackTimePerBall &lt;dbl&gt; | LiamsCountTotal &lt;int&gt; | Flow &lt;dbl&gt; | EDATonic &lt;dbl[,1]&gt; | EDARaw &lt;dbl&gt; | EDAPhasic &lt;dbl&gt; | PId &lt;fct&gt; |\n",
       "|---|---|---|---|---|---|---|---|---|---|---|---|---|---|---|---|---|---|---|\n",
       "| 1 | 1660049372 | 4 | 1 | 1 | 1660049852 | 480 | 0.9451613 | 293 | 0 | 310 | 94.51613 | 1.548387 |  905 | 113.125 | -0.7328000 | 1.588233 | -4.802986e-05 | 1001 |\n",
       "| 2 | 1660050104 | 2 | 1 | 1 | 1660050584 | 480 | 0.9608939 | 344 | 0 | 358 | 96.08939 | 1.340782 |  707 |  88.375 | -0.7641034 | 1.517038 |  1.655354e-05 | 1001 |\n",
       "| 3 | 1660050846 | 3 | 1 | 1 | 1660051326 | 480 | 0.9623656 | 358 | 0 | 372 | 96.23656 | 1.290323 | 1175 | 146.875 | -0.7717837 | 1.499515 | -2.318148e-05 | 1001 |\n",
       "| 4 | 1660051574 | 1 | 1 | 1 | 1660052054 | 480 | 0.9417476 | 291 | 1 | 310 | 93.87097 | 1.553398 |  198 |  24.750 | -0.7319107 | 1.590349 |  4.331147e-05 | 1001 |\n",
       "| 5 | 1660119332 | 4 | 1 | 3 | 1660119812 | 480 | 0.8367347 | 164 | 2 | 198 | 82.82828 | 2.448980 |  857 | 107.125 |  0.6376023 | 4.707772 | -1.253512e-04 | 3001 |\n",
       "| 6 | 1660120027 | 3 | 1 | 3 | 1660120507 | 480 | 0.8050000 | 161 | 2 | 202 | 79.70297 | 2.400000 | 1193 | 149.125 |  1.6440297 | 6.999476 |  5.240321e-04 | 3001 |\n",
       "\n"
      ],
      "text/plain": [
       "  TimeStart  BlockNumber AdaptationStatus NBackN TimeEnd    Duration IsCorrect\n",
       "1 1660049372 4           1                1      1660049852 480      0.9451613\n",
       "2 1660050104 2           1                1      1660050584 480      0.9608939\n",
       "3 1660050846 3           1                1      1660051326 480      0.9623656\n",
       "4 1660051574 1           1                1      1660052054 480      0.9417476\n",
       "5 1660119332 4           1                3      1660119812 480      0.8367347\n",
       "6 1660120027 3           1                3      1660120507 480      0.8050000\n",
       "  NBackCorrect NBackMissed NBackTotal NBackAccuracy NBackTimePerBall\n",
       "1 293          0           310        94.51613      1.548387        \n",
       "2 344          0           358        96.08939      1.340782        \n",
       "3 358          0           372        96.23656      1.290323        \n",
       "4 291          1           310        93.87097      1.553398        \n",
       "5 164          2           198        82.82828      2.448980        \n",
       "6 161          2           202        79.70297      2.400000        \n",
       "  LiamsCountTotal Flow    EDATonic   EDARaw   EDAPhasic     PId \n",
       "1  905            113.125 -0.7328000 1.588233 -4.802986e-05 1001\n",
       "2  707             88.375 -0.7641034 1.517038  1.655354e-05 1001\n",
       "3 1175            146.875 -0.7717837 1.499515 -2.318148e-05 1001\n",
       "4  198             24.750 -0.7319107 1.590349  4.331147e-05 1001\n",
       "5  857            107.125  0.6376023 4.707772 -1.253512e-04 3001\n",
       "6 1193            149.125  1.6440297 6.999476  5.240321e-04 3001"
      ]
     },
     "metadata": {},
     "output_type": "display_data"
    },
    {
     "data": {
      "text/plain": [
       "Linear mixed model fit by REML. t-tests use Satterthwaite's method [\n",
       "lmerModLmerTest]\n",
       "Formula: EDATonic ~ Flow * NBackN + (1 | PId)\n",
       "   Data: dfXWL\n",
       "\n",
       "REML criterion at convergence: 38.9\n",
       "\n",
       "Scaled residuals: \n",
       "     Min       1Q   Median       3Q      Max \n",
       "-1.89703 -0.29150 -0.06837  0.26059  1.69506 \n",
       "\n",
       "Random effects:\n",
       " Groups   Name        Variance Std.Dev.\n",
       " PId      (Intercept) 0.5155   0.7180  \n",
       " Residual             0.1154   0.3396  \n",
       "Number of obs: 16, groups:  PId, 4\n",
       "\n",
       "Fixed effects:\n",
       "             Estimate Std. Error        df t value Pr(>|t|)\n",
       "(Intercept) -2.155579   1.226208  2.983020  -1.758    0.178\n",
       "Flow         0.000109   0.005698 10.002083   0.019    0.985\n",
       "NBackN       1.221658   0.577829  2.978996   2.114    0.126\n",
       "Flow:NBackN -0.001732   0.002681 10.000841  -0.646    0.533\n",
       "\n",
       "Correlation of Fixed Effects:\n",
       "            (Intr) Flow   NBackN\n",
       "Flow        -0.431              \n",
       "NBackN      -0.943  0.406       \n",
       "Flow:NBackN  0.406 -0.942 -0.430"
      ]
     },
     "metadata": {},
     "output_type": "display_data"
    },
    {
     "data": {
      "image/png": "[encoded data removed]",
      "text/plain": [
       "plot without title"
      ]
     },
     "metadata": {
      "image/png": {
       "height": 420,
       "width": 420
      }
     },
     "output_type": "display_data"
    }
   ],
   "source": [
    "dfXWL <- df%>%filter(AdaptationStatus==1)\n",
    "head(dfXWL)\n",
    "boxplot(NBackAccuracy ~ NBackN, col=c(\"white\",\"lightgray\"),dfXWL)\n",
    "\n",
    "model <- lmer(EDATonic ~ Flow*NBackN + (1|PId), data= dfXWL) #to run the model\n",
    "summary(model)"
   ]
  },
  {
   "cell_type": "code",
   "execution_count": 10,
   "id": "06fd3aec",
   "metadata": {},
   "outputs": [
    {
     "data": {
      "text/html": [
       "<table class=\"dataframe\">\n",
       "<caption>A anova: 3 × 6</caption>\n",
       "<thead>\n",
       "\t<tr><th></th><th scope=col>Sum Sq</th><th scope=col>Mean Sq</th><th scope=col>NumDF</th><th scope=col>DenDF</th><th scope=col>F value</th><th scope=col>Pr(&gt;F)</th></tr>\n",
       "\t<tr><th></th><th scope=col>&lt;dbl&gt;</th><th scope=col>&lt;dbl&gt;</th><th scope=col>&lt;int&gt;</th><th scope=col>&lt;dbl&gt;</th><th scope=col>&lt;dbl&gt;</th><th scope=col>&lt;dbl&gt;</th></tr>\n",
       "</thead>\n",
       "<tbody>\n",
       "\t<tr><th scope=row>Flow</th><td>4.221983e-05</td><td>4.221983e-05</td><td>1</td><td>10.002083</td><td>0.0003659822</td><td>0.9851131</td></tr>\n",
       "\t<tr><th scope=row>NBackN</th><td>5.156514e-01</td><td>5.156514e-01</td><td>1</td><td> 2.978996</td><td>4.4699192629</td><td>0.1255038</td></tr>\n",
       "\t<tr><th scope=row>Flow:NBackN</th><td>4.814658e-02</td><td>4.814658e-02</td><td>1</td><td>10.000841</td><td>0.4173581976</td><td>0.5328013</td></tr>\n",
       "</tbody>\n",
       "</table>\n"
      ],
      "text/latex": [
       "A anova: 3 × 6\n",
       "\\begin{tabular}{r|llllll}\n",
       "  & Sum Sq & Mean Sq & NumDF & DenDF & F value & Pr(>F)\\\\\n",
       "  & <dbl> & <dbl> & <int> & <dbl> & <dbl> & <dbl>\\\\\n",
       "\\hline\n",
       "\tFlow & 4.221983e-05 & 4.221983e-05 & 1 & 10.002083 & 0.0003659822 & 0.9851131\\\\\n",
       "\tNBackN & 5.156514e-01 & 5.156514e-01 & 1 &  2.978996 & 4.4699192629 & 0.1255038\\\\\n",
       "\tFlow:NBackN & 4.814658e-02 & 4.814658e-02 & 1 & 10.000841 & 0.4173581976 & 0.5328013\\\\\n",
       "\\end{tabular}\n"
      ],
      "text/markdown": [
       "\n",
       "A anova: 3 × 6\n",
       "\n",
       "| <!--/--> | Sum Sq &lt;dbl&gt; | Mean Sq &lt;dbl&gt; | NumDF &lt;int&gt; | DenDF &lt;dbl&gt; | F value &lt;dbl&gt; | Pr(&gt;F) &lt;dbl&gt; |\n",
       "|---|---|---|---|---|---|---|\n",
       "| Flow | 4.221983e-05 | 4.221983e-05 | 1 | 10.002083 | 0.0003659822 | 0.9851131 |\n",
       "| NBackN | 5.156514e-01 | 5.156514e-01 | 1 |  2.978996 | 4.4699192629 | 0.1255038 |\n",
       "| Flow:NBackN | 4.814658e-02 | 4.814658e-02 | 1 | 10.000841 | 0.4173581976 | 0.5328013 |\n",
       "\n"
      ],
      "text/plain": [
       "            Sum Sq       Mean Sq      NumDF DenDF     F value      Pr(>F)   \n",
       "Flow        4.221983e-05 4.221983e-05 1     10.002083 0.0003659822 0.9851131\n",
       "NBackN      5.156514e-01 5.156514e-01 1      2.978996 4.4699192629 0.1255038\n",
       "Flow:NBackN 4.814658e-02 4.814658e-02 1     10.000841 0.4173581976 0.5328013"
      ]
     },
     "metadata": {},
     "output_type": "display_data"
    }
   ],
   "source": [
    "anova(model)"
   ]
  },
  {
   "cell_type": "code",
   "execution_count": 11,
   "id": "ce320d54",
   "metadata": {},
   "outputs": [],
   "source": [
    "var<-\"NBackAccuracy\""
   ]
  },
  {
   "cell_type": "code",
   "execution_count": 12,
   "id": "022ae69f",
   "metadata": {},
   "outputs": [
    {
     "name": "stdout",
     "output_type": "stream",
     "text": [
      "[1] 0.9851131\n",
      "[1] 0.01913066\n"
     ]
    },
    {
     "data": {
      "text/plain": [
       "Linear mixed model fit by REML. t-tests use Satterthwaite's method [\n",
       "lmerModLmerTest]\n",
       "Formula: EDATonic ~ Flow + NBackN + (1 | PId)\n",
       "   Data: df %>% filter(AdaptationStatus == 1)\n",
       "\n",
       "REML criterion at convergence: 29.3\n",
       "\n",
       "Scaled residuals: \n",
       "     Min       1Q   Median       3Q      Max \n",
       "-2.03119 -0.52964 -0.07406  0.37623  1.44088 \n",
       "\n",
       "Random effects:\n",
       " Groups   Name        Variance Std.Dev.\n",
       " PId      (Intercept) 0.5177   0.7195  \n",
       " Residual             0.1092   0.3305  \n",
       "Number of obs: 16, groups:  PId, 4\n",
       "\n",
       "Fixed effects:\n",
       "             Estimate Std. Error        df t value Pr(>|t|)  \n",
       "(Intercept) -1.833725   1.120382  2.095085  -1.637   0.2377  \n",
       "Flow        -0.003358   0.001860 11.008795  -1.806   0.0983 .\n",
       "NBackN       1.061174   0.522039  1.999979   2.033   0.1791  \n",
       "---\n",
       "Signif. codes:  0 '***' 0.001 '**' 0.01 '*' 0.05 '.' 0.1 ' ' 1\n",
       "\n",
       "Correlation of Fixed Effects:\n",
       "       (Intr) Flow  \n",
       "Flow   -0.152       \n",
       "NBackN -0.932  0.002"
      ]
     },
     "metadata": {},
     "output_type": "display_data"
    }
   ],
   "source": [
    "t_non<-data.frame(coef(summary(model)))[2,]$t.value\n",
    "p_non<-data.frame(coef(summary(model)))[2,]$Pr...t..\n",
    "print(p_non)\n",
    "print(t_non)\n",
    "\n",
    "model <- lmer(EDATonic ~ Flow + NBackN + (1|PId), data= df%>%filter(AdaptationStatus==1)) #to run the model\n",
    "summary(model)\n",
    "\n",
    "x<-df%>%filter(AdaptationStatus==2)#get adaptation values\n",
    "\n",
    "df_m<-as.data.frame(coef(model)[1])\n",
    "df_m$PId<-rownames(df_m)\n",
    "\n",
    "x<-left_join(x,df_m,by=\"PId\")\n",
    "\n",
    "#calculate expected values\n",
    "x$intercept<-x$PId..Intercept.\n",
    "x$slope<-x$PId.Flow\n",
    "x$slopeNBackN<-x$PId.NBackN\n",
    "x$slopelowNBackN<-x$PId.Flow.NBackN\n",
    "x$expected <- predict(model, df%>%filter(AdaptationStatus==2)%>%select(PId,NBackN,Flow))\n",
    "#x$expected <- x$intercept + x$slope * x$Flow + x$BackLevel * x$slopeBackLevel\n",
    "# + x$slopeBackLevel* x$slopelowBackLevel + x$slopeBackLevel* x$slopelowBackLevel\n",
    "x$actual<-x[,colnames(x)==var]#get actual"
   ]
  },
  {
   "cell_type": "code",
   "execution_count": 13,
   "id": "474f5d0a",
   "metadata": {},
   "outputs": [
    {
     "name": "stderr",
     "output_type": "stream",
     "text": [
      "Warning message:\n",
      "\"Converting \"PId\" to factor for ANOVA.\"\n",
      "Warning message:\n",
      "\"\"NBackN\" will be treated as numeric.\"\n",
      "Warning message:\n",
      "\"Data is unbalanced (unequal N per group). Make sure you specified a well-considered value for the type argument to ezANOVA().\"\n"
     ]
    },
    {
     "data": {
      "text/html": [
       "<strong>$ANOVA</strong> = <table class=\"dataframe\">\n",
       "<caption>A data.frame: 3 × 7</caption>\n",
       "<thead>\n",
       "\t<tr><th></th><th scope=col>Effect</th><th scope=col>DFn</th><th scope=col>DFd</th><th scope=col>F</th><th scope=col>p</th><th scope=col>p&lt;.05</th><th scope=col>ges</th></tr>\n",
       "\t<tr><th></th><th scope=col>&lt;chr&gt;</th><th scope=col>&lt;dbl&gt;</th><th scope=col>&lt;dbl&gt;</th><th scope=col>&lt;dbl&gt;</th><th scope=col>&lt;dbl&gt;</th><th scope=col>&lt;chr&gt;</th><th scope=col>&lt;dbl&gt;</th></tr>\n",
       "</thead>\n",
       "<tbody>\n",
       "\t<tr><th scope=row>2</th><td>NBackN          </td><td>1</td><td>2</td><td>  1.047347</td><td>0.413747996</td><td> </td><td>0.2000648</td></tr>\n",
       "\t<tr><th scope=row>3</th><td>condition       </td><td>1</td><td>2</td><td>267.240877</td><td>0.003721069</td><td>*</td><td>0.9858766</td></tr>\n",
       "\t<tr><th scope=row>4</th><td>NBackN:condition</td><td>1</td><td>2</td><td>  1.607276</td><td>0.332493374</td><td> </td><td>0.2956896</td></tr>\n",
       "</tbody>\n",
       "</table>\n"
      ],
      "text/latex": [
       "\\textbf{\\$ANOVA} = A data.frame: 3 × 7\n",
       "\\begin{tabular}{r|lllllll}\n",
       "  & Effect & DFn & DFd & F & p & p<.05 & ges\\\\\n",
       "  & <chr> & <dbl> & <dbl> & <dbl> & <dbl> & <chr> & <dbl>\\\\\n",
       "\\hline\n",
       "\t2 & NBackN           & 1 & 2 &   1.047347 & 0.413747996 &   & 0.2000648\\\\\n",
       "\t3 & condition        & 1 & 2 & 267.240877 & 0.003721069 & * & 0.9858766\\\\\n",
       "\t4 & NBackN:condition & 1 & 2 &   1.607276 & 0.332493374 &   & 0.2956896\\\\\n",
       "\\end{tabular}\n"
      ],
      "text/markdown": [
       "**$ANOVA** = \n",
       "A data.frame: 3 × 7\n",
       "\n",
       "| <!--/--> | Effect &lt;chr&gt; | DFn &lt;dbl&gt; | DFd &lt;dbl&gt; | F &lt;dbl&gt; | p &lt;dbl&gt; | p&lt;.05 &lt;chr&gt; | ges &lt;dbl&gt; |\n",
       "|---|---|---|---|---|---|---|---|\n",
       "| 2 | NBackN           | 1 | 2 |   1.047347 | 0.413747996 | <!----> | 0.2000648 |\n",
       "| 3 | condition        | 1 | 2 | 267.240877 | 0.003721069 | * | 0.9858766 |\n",
       "| 4 | NBackN:condition | 1 | 2 |   1.607276 | 0.332493374 | <!----> | 0.2956896 |\n",
       "\n"
      ],
      "text/plain": [
       "$ANOVA\n",
       "            Effect DFn DFd          F           p p<.05       ges\n",
       "2           NBackN   1   2   1.047347 0.413747996       0.2000648\n",
       "3        condition   1   2 267.240877 0.003721069     * 0.9858766\n",
       "4 NBackN:condition   1   2   1.607276 0.332493374       0.2956896\n"
      ]
     },
     "metadata": {},
     "output_type": "display_data"
    }
   ],
   "source": [
    "dfX <- gather(x, condition, measurement, expected:actual, factor_key=TRUE)\n",
    "ezANOVA(dfX, dv= measurement, wid = PId, within= condition, between = NBackN)"
   ]
  },
  {
   "cell_type": "code",
   "execution_count": 25,
   "id": "6cf181b2",
   "metadata": {},
   "outputs": [
    {
     "data": {
      "text/html": [
       "<table class=\"dataframe\">\n",
       "<caption>A data.frame: 8 × 26</caption>\n",
       "<thead>\n",
       "\t<tr><th scope=col>TimeStart</th><th scope=col>BlockNumber</th><th scope=col>AdaptationStatus</th><th scope=col>NBackN</th><th scope=col>TimeEnd</th><th scope=col>Duration</th><th scope=col>IsCorrect</th><th scope=col>NBackCorrect</th><th scope=col>NBackMissed</th><th scope=col>NBackTotal</th><th scope=col>⋯</th><th scope=col>EDAPhasic</th><th scope=col>PId</th><th scope=col>PId..Intercept.</th><th scope=col>PId.Flow</th><th scope=col>PId.NBackN</th><th scope=col>intercept</th><th scope=col>slope</th><th scope=col>slopeNBackN</th><th scope=col>condition</th><th scope=col>measurement</th></tr>\n",
       "\t<tr><th scope=col>&lt;dbl&gt;</th><th scope=col>&lt;int&gt;</th><th scope=col>&lt;int&gt;</th><th scope=col>&lt;int&gt;</th><th scope=col>&lt;dbl&gt;</th><th scope=col>&lt;dbl&gt;</th><th scope=col>&lt;dbl&gt;</th><th scope=col>&lt;int&gt;</th><th scope=col>&lt;int&gt;</th><th scope=col>&lt;int&gt;</th><th scope=col>⋯</th><th scope=col>&lt;dbl&gt;</th><th scope=col>&lt;chr&gt;</th><th scope=col>&lt;dbl&gt;</th><th scope=col>&lt;dbl&gt;</th><th scope=col>&lt;dbl&gt;</th><th scope=col>&lt;dbl&gt;</th><th scope=col>&lt;dbl&gt;</th><th scope=col>&lt;dbl&gt;</th><th scope=col>&lt;fct&gt;</th><th scope=col>&lt;dbl&gt;</th></tr>\n",
       "</thead>\n",
       "<tbody>\n",
       "\t<tr><td>1660052300</td><td>5</td><td>2</td><td>1</td><td>1660052780</td><td>480.0000</td><td>0.9660057</td><td>341</td><td>1</td><td>354</td><td>⋯</td><td>-2.261807e-05</td><td>1001</td><td>-1.514864</td><td>-0.003358404</td><td>1.061174</td><td>-1.514864</td><td>-0.003358404</td><td>1.061174</td><td>expected</td><td>-0.8151384</td></tr>\n",
       "\t<tr><td>1660121675</td><td>5</td><td>2</td><td>3</td><td>1660122155</td><td>480.0000</td><td>0.8167539</td><td>156</td><td>4</td><td>195</td><td>⋯</td><td> 6.771048e-04</td><td>3001</td><td>-1.514864</td><td>-0.003358404</td><td>1.061174</td><td>-1.514864</td><td>-0.003358404</td><td>1.061174</td><td>expected</td><td> 1.2874783</td></tr>\n",
       "\t<tr><td>1660038815</td><td>5</td><td>2</td><td>2</td><td>1660039295</td><td>480.0000</td><td>0.7168675</td><td>238</td><td>0</td><td>332</td><td>⋯</td><td>-5.778454e-04</td><td>2003</td><td>-1.615587</td><td>-0.003358404</td><td>1.061174</td><td>-1.615587</td><td>-0.003358404</td><td>1.061174</td><td>expected</td><td> 0.2397676</td></tr>\n",
       "\t<tr><td>1660134945</td><td>5</td><td>2</td><td>2</td><td>1660135425</td><td>480.0226</td><td>0.8808933</td><td>355</td><td>1</td><td>404</td><td>⋯</td><td>-2.116848e-04</td><td>2001</td><td>-2.689584</td><td>-0.003358404</td><td>1.061174</td><td>-2.689584</td><td>-0.003358404</td><td>1.061174</td><td>expected</td><td>-0.9148156</td></tr>\n",
       "\t<tr><td>1660052300</td><td>5</td><td>2</td><td>1</td><td>1660052780</td><td>480.0000</td><td>0.9660057</td><td>341</td><td>1</td><td>354</td><td>⋯</td><td>-2.261807e-05</td><td>1001</td><td>-1.514864</td><td>-0.003358404</td><td>1.061174</td><td>-1.514864</td><td>-0.003358404</td><td>1.061174</td><td>actual  </td><td>96.3276836</td></tr>\n",
       "\t<tr><td>1660121675</td><td>5</td><td>2</td><td>3</td><td>1660122155</td><td>480.0000</td><td>0.8167539</td><td>156</td><td>4</td><td>195</td><td>⋯</td><td> 6.771048e-04</td><td>3001</td><td>-1.514864</td><td>-0.003358404</td><td>1.061174</td><td>-1.514864</td><td>-0.003358404</td><td>1.061174</td><td>actual  </td><td>80.0000000</td></tr>\n",
       "\t<tr><td>1660038815</td><td>5</td><td>2</td><td>2</td><td>1660039295</td><td>480.0000</td><td>0.7168675</td><td>238</td><td>0</td><td>332</td><td>⋯</td><td>-5.778454e-04</td><td>2003</td><td>-1.615587</td><td>-0.003358404</td><td>1.061174</td><td>-1.615587</td><td>-0.003358404</td><td>1.061174</td><td>actual  </td><td>71.6867470</td></tr>\n",
       "\t<tr><td>1660134945</td><td>5</td><td>2</td><td>2</td><td>1660135425</td><td>480.0226</td><td>0.8808933</td><td>355</td><td>1</td><td>404</td><td>⋯</td><td>-2.116848e-04</td><td>2001</td><td>-2.689584</td><td>-0.003358404</td><td>1.061174</td><td>-2.689584</td><td>-0.003358404</td><td>1.061174</td><td>actual  </td><td>87.8712871</td></tr>\n",
       "</tbody>\n",
       "</table>\n"
      ],
      "text/latex": [
       "A data.frame: 8 × 26\n",
       "\\begin{tabular}{lllllllllllllllllllll}\n",
       " TimeStart & BlockNumber & AdaptationStatus & NBackN & TimeEnd & Duration & IsCorrect & NBackCorrect & NBackMissed & NBackTotal & ⋯ & EDAPhasic & PId & PId..Intercept. & PId.Flow & PId.NBackN & intercept & slope & slopeNBackN & condition & measurement\\\\\n",
       " <dbl> & <int> & <int> & <int> & <dbl> & <dbl> & <dbl> & <int> & <int> & <int> & ⋯ & <dbl> & <chr> & <dbl> & <dbl> & <dbl> & <dbl> & <dbl> & <dbl> & <fct> & <dbl>\\\\\n",
       "\\hline\n",
       "\t 1660052300 & 5 & 2 & 1 & 1660052780 & 480.0000 & 0.9660057 & 341 & 1 & 354 & ⋯ & -2.261807e-05 & 1001 & -1.514864 & -0.003358404 & 1.061174 & -1.514864 & -0.003358404 & 1.061174 & expected & -0.8151384\\\\\n",
       "\t 1660121675 & 5 & 2 & 3 & 1660122155 & 480.0000 & 0.8167539 & 156 & 4 & 195 & ⋯ &  6.771048e-04 & 3001 & -1.514864 & -0.003358404 & 1.061174 & -1.514864 & -0.003358404 & 1.061174 & expected &  1.2874783\\\\\n",
       "\t 1660038815 & 5 & 2 & 2 & 1660039295 & 480.0000 & 0.7168675 & 238 & 0 & 332 & ⋯ & -5.778454e-04 & 2003 & -1.615587 & -0.003358404 & 1.061174 & -1.615587 & -0.003358404 & 1.061174 & expected &  0.2397676\\\\\n",
       "\t 1660134945 & 5 & 2 & 2 & 1660135425 & 480.0226 & 0.8808933 & 355 & 1 & 404 & ⋯ & -2.116848e-04 & 2001 & -2.689584 & -0.003358404 & 1.061174 & -2.689584 & -0.003358404 & 1.061174 & expected & -0.9148156\\\\\n",
       "\t 1660052300 & 5 & 2 & 1 & 1660052780 & 480.0000 & 0.9660057 & 341 & 1 & 354 & ⋯ & -2.261807e-05 & 1001 & -1.514864 & -0.003358404 & 1.061174 & -1.514864 & -0.003358404 & 1.061174 & actual   & 96.3276836\\\\\n",
       "\t 1660121675 & 5 & 2 & 3 & 1660122155 & 480.0000 & 0.8167539 & 156 & 4 & 195 & ⋯ &  6.771048e-04 & 3001 & -1.514864 & -0.003358404 & 1.061174 & -1.514864 & -0.003358404 & 1.061174 & actual   & 80.0000000\\\\\n",
       "\t 1660038815 & 5 & 2 & 2 & 1660039295 & 480.0000 & 0.7168675 & 238 & 0 & 332 & ⋯ & -5.778454e-04 & 2003 & -1.615587 & -0.003358404 & 1.061174 & -1.615587 & -0.003358404 & 1.061174 & actual   & 71.6867470\\\\\n",
       "\t 1660134945 & 5 & 2 & 2 & 1660135425 & 480.0226 & 0.8808933 & 355 & 1 & 404 & ⋯ & -2.116848e-04 & 2001 & -2.689584 & -0.003358404 & 1.061174 & -2.689584 & -0.003358404 & 1.061174 & actual   & 87.8712871\\\\\n",
       "\\end{tabular}\n"
      ],
      "text/markdown": [
       "\n",
       "A data.frame: 8 × 26\n",
       "\n",
       "| TimeStart &lt;dbl&gt; | BlockNumber &lt;int&gt; | AdaptationStatus &lt;int&gt; | NBackN &lt;int&gt; | TimeEnd &lt;dbl&gt; | Duration &lt;dbl&gt; | IsCorrect &lt;dbl&gt; | NBackCorrect &lt;int&gt; | NBackMissed &lt;int&gt; | NBackTotal &lt;int&gt; | ⋯ ⋯ | EDAPhasic &lt;dbl&gt; | PId &lt;chr&gt; | PId..Intercept. &lt;dbl&gt; | PId.Flow &lt;dbl&gt; | PId.NBackN &lt;dbl&gt; | intercept &lt;dbl&gt; | slope &lt;dbl&gt; | slopeNBackN &lt;dbl&gt; | condition &lt;fct&gt; | measurement &lt;dbl&gt; |\n",
       "|---|---|---|---|---|---|---|---|---|---|---|---|---|---|---|---|---|---|---|---|---|\n",
       "| 1660052300 | 5 | 2 | 1 | 1660052780 | 480.0000 | 0.9660057 | 341 | 1 | 354 | ⋯ | -2.261807e-05 | 1001 | -1.514864 | -0.003358404 | 1.061174 | -1.514864 | -0.003358404 | 1.061174 | expected | -0.8151384 |\n",
       "| 1660121675 | 5 | 2 | 3 | 1660122155 | 480.0000 | 0.8167539 | 156 | 4 | 195 | ⋯ |  6.771048e-04 | 3001 | -1.514864 | -0.003358404 | 1.061174 | -1.514864 | -0.003358404 | 1.061174 | expected |  1.2874783 |\n",
       "| 1660038815 | 5 | 2 | 2 | 1660039295 | 480.0000 | 0.7168675 | 238 | 0 | 332 | ⋯ | -5.778454e-04 | 2003 | -1.615587 | -0.003358404 | 1.061174 | -1.615587 | -0.003358404 | 1.061174 | expected |  0.2397676 |\n",
       "| 1660134945 | 5 | 2 | 2 | 1660135425 | 480.0226 | 0.8808933 | 355 | 1 | 404 | ⋯ | -2.116848e-04 | 2001 | -2.689584 | -0.003358404 | 1.061174 | -2.689584 | -0.003358404 | 1.061174 | expected | -0.9148156 |\n",
       "| 1660052300 | 5 | 2 | 1 | 1660052780 | 480.0000 | 0.9660057 | 341 | 1 | 354 | ⋯ | -2.261807e-05 | 1001 | -1.514864 | -0.003358404 | 1.061174 | -1.514864 | -0.003358404 | 1.061174 | actual   | 96.3276836 |\n",
       "| 1660121675 | 5 | 2 | 3 | 1660122155 | 480.0000 | 0.8167539 | 156 | 4 | 195 | ⋯ |  6.771048e-04 | 3001 | -1.514864 | -0.003358404 | 1.061174 | -1.514864 | -0.003358404 | 1.061174 | actual   | 80.0000000 |\n",
       "| 1660038815 | 5 | 2 | 2 | 1660039295 | 480.0000 | 0.7168675 | 238 | 0 | 332 | ⋯ | -5.778454e-04 | 2003 | -1.615587 | -0.003358404 | 1.061174 | -1.615587 | -0.003358404 | 1.061174 | actual   | 71.6867470 |\n",
       "| 1660134945 | 5 | 2 | 2 | 1660135425 | 480.0226 | 0.8808933 | 355 | 1 | 404 | ⋯ | -2.116848e-04 | 2001 | -2.689584 | -0.003358404 | 1.061174 | -2.689584 | -0.003358404 | 1.061174 | actual   | 87.8712871 |\n",
       "\n"
      ],
      "text/plain": [
       "  TimeStart  BlockNumber AdaptationStatus NBackN TimeEnd    Duration IsCorrect\n",
       "1 1660052300 5           2                1      1660052780 480.0000 0.9660057\n",
       "2 1660121675 5           2                3      1660122155 480.0000 0.8167539\n",
       "3 1660038815 5           2                2      1660039295 480.0000 0.7168675\n",
       "4 1660134945 5           2                2      1660135425 480.0226 0.8808933\n",
       "5 1660052300 5           2                1      1660052780 480.0000 0.9660057\n",
       "6 1660121675 5           2                3      1660122155 480.0000 0.8167539\n",
       "7 1660038815 5           2                2      1660039295 480.0000 0.7168675\n",
       "8 1660134945 5           2                2      1660135425 480.0226 0.8808933\n",
       "  NBackCorrect NBackMissed NBackTotal ⋯ EDAPhasic     PId  PId..Intercept.\n",
       "1 341          1           354        ⋯ -2.261807e-05 1001 -1.514864      \n",
       "2 156          4           195        ⋯  6.771048e-04 3001 -1.514864      \n",
       "3 238          0           332        ⋯ -5.778454e-04 2003 -1.615587      \n",
       "4 355          1           404        ⋯ -2.116848e-04 2001 -2.689584      \n",
       "5 341          1           354        ⋯ -2.261807e-05 1001 -1.514864      \n",
       "6 156          4           195        ⋯  6.771048e-04 3001 -1.514864      \n",
       "7 238          0           332        ⋯ -5.778454e-04 2003 -1.615587      \n",
       "8 355          1           404        ⋯ -2.116848e-04 2001 -2.689584      \n",
       "  PId.Flow     PId.NBackN intercept slope        slopeNBackN condition\n",
       "1 -0.003358404 1.061174   -1.514864 -0.003358404 1.061174    expected \n",
       "2 -0.003358404 1.061174   -1.514864 -0.003358404 1.061174    expected \n",
       "3 -0.003358404 1.061174   -1.615587 -0.003358404 1.061174    expected \n",
       "4 -0.003358404 1.061174   -2.689584 -0.003358404 1.061174    expected \n",
       "5 -0.003358404 1.061174   -1.514864 -0.003358404 1.061174    actual   \n",
       "6 -0.003358404 1.061174   -1.514864 -0.003358404 1.061174    actual   \n",
       "7 -0.003358404 1.061174   -1.615587 -0.003358404 1.061174    actual   \n",
       "8 -0.003358404 1.061174   -2.689584 -0.003358404 1.061174    actual   \n",
       "  measurement\n",
       "1 -0.8151384 \n",
       "2  1.2874783 \n",
       "3  0.2397676 \n",
       "4 -0.9148156 \n",
       "5 96.3276836 \n",
       "6 80.0000000 \n",
       "7 71.6867470 \n",
       "8 87.8712871 "
      ]
     },
     "metadata": {},
     "output_type": "display_data"
    }
   ],
   "source": [
    "dfX"
   ]
  },
  {
   "cell_type": "code",
   "execution_count": 14,
   "id": "d59445ba",
   "metadata": {},
   "outputs": [
    {
     "name": "stderr",
     "output_type": "stream",
     "text": [
      "ERROR while rich displaying an object: Error in FUN(X[[i]], ...): object 'BackLevel' not found\n",
      "\n",
      "Traceback:\n",
      "1. tryCatch(withCallingHandlers({\n",
      " .     if (!mime %in% names(repr::mime2repr)) \n",
      " .         stop(\"No repr_* for mimetype \", mime, \" in repr::mime2repr\")\n",
      " .     rpr <- repr::mime2repr[[mime]](obj)\n",
      " .     if (is.null(rpr)) \n",
      " .         return(NULL)\n",
      " .     prepare_content(is.raw(rpr), rpr)\n",
      " . }, error = error_handler), error = outer_handler)\n",
      "2. tryCatchList(expr, classes, parentenv, handlers)\n",
      "3. tryCatchOne(expr, names, parentenv, handlers[[1L]])\n",
      "4. doTryCatch(return(expr), name, parentenv, handler)\n",
      "5. withCallingHandlers({\n",
      " .     if (!mime %in% names(repr::mime2repr)) \n",
      " .         stop(\"No repr_* for mimetype \", mime, \" in repr::mime2repr\")\n",
      " .     rpr <- repr::mime2repr[[mime]](obj)\n",
      " .     if (is.null(rpr)) \n",
      " .         return(NULL)\n",
      " .     prepare_content(is.raw(rpr), rpr)\n",
      " . }, error = error_handler)\n",
      "6. repr::mime2repr[[mime]](obj)\n",
      "7. repr_text.default(obj)\n",
      "8. paste(capture.output(print(obj)), collapse = \"\\n\")\n",
      "9. capture.output(print(obj))\n",
      "10. withVisible(...elt(i))\n",
      "11. print(obj)\n",
      "12. print.ggplot(obj)\n",
      "13. ggplot_build(x)\n",
      "14. ggplot_build.ggplot(x)\n",
      "15. by_layer(function(l, d) l$compute_aesthetics(d, plot))\n",
      "16. f(l = layers[[i]], d = data[[i]])\n",
      "17. l$compute_aesthetics(d, plot)\n",
      "18. f(..., self = self)\n",
      "19. scales_add_defaults(plot$scales, data, aesthetics, plot$plot_env)\n",
      "20. lapply(aesthetics[new_aesthetics], eval_tidy, data = data)\n",
      "21. FUN(X[[i]], ...)\n"
     ]
    },
    {
     "data": {
      "image/png": "[encoded data removed]",
      "text/plain": [
       "plot without title"
      ]
     },
     "metadata": {
      "image/png": {
       "height": 420,
       "width": 420
      }
     },
     "output_type": "display_data"
    }
   ],
   "source": [
    "qplot(x = BackLevel, y = measurement, color = condition, data = dfX) +\n",
    "  geom_smooth(method = \"lm\")"
   ]
  },
  {
   "cell_type": "code",
   "execution_count": 15,
   "id": "fd3f7fd6",
   "metadata": {},
   "outputs": [
    {
     "name": "stderr",
     "output_type": "stream",
     "text": [
      "geom_path: Each group consists of only one observation. Do you need to adjust\n",
      "the group aesthetic?\n",
      "\n",
      "geom_path: Each group consists of only one observation. Do you need to adjust\n",
      "the group aesthetic?\n",
      "\n",
      "geom_path: Each group consists of only one observation. Do you need to adjust\n",
      "the group aesthetic?\n",
      "\n"
     ]
    },
    {
     "data": {
      "image/png": "[encoded data removed]",
      "text/plain": [
       "plot without title"
      ]
     },
     "metadata": {
      "image/png": {
       "height": 420,
       "width": 420
      }
     },
     "output_type": "display_data"
    }
   ],
   "source": [
    "ggplot(x,aes(Flow,actual,group=PId,color=PId))+\n",
    "geom_line(alpha=.5)+\n",
    "geom_segment(data=x,aes(x = Flow, xend = Flow, y = actual, yend = expected),linetype=\"dashed\")+\n",
    "geom_point(data = x,aes(Flow,actual,color=PId),size=3)+\n",
    "geom_point(data = x,aes(Flow,expected,color=PId),shape=3,size=3)+\n",
    "apatheme+\n",
    "theme(legend.position=\"None\")+\n",
    "ylab(\"z-scores of Mean EDA\")+\n",
    "xlab(\"Stream\")+\n",
    "scale_x_continuous(breaks=(seq(20,130,by=20)))+ \n",
    "geom_abline(aes(color = PId, intercept = intercept, slope = slope))+\n",
    "facet_wrap(~NBackN)"
   ]
  },
  {
   "cell_type": "code",
   "execution_count": 17,
   "id": "a2838efd",
   "metadata": {},
   "outputs": [
    {
     "ename": "ERROR",
     "evalue": "Error: grouping factors must have > 1 sampled level\n",
     "output_type": "error",
     "traceback": [
      "Error: grouping factors must have > 1 sampled level\nTraceback:\n",
      "1. lmer(NBackAccuracy ~ Flow + (1 | PId), data = df %>% filter(AdaptationStatus == \n .     1, NBackN == 1))",
      "2. eval.parent(mc)",
      "3. eval(expr, p)",
      "4. eval(expr, p)",
      "5. lme4::lmer(formula = NBackAccuracy ~ Flow + (1 | PId), data = df %>% \n .     filter(AdaptationStatus == 1, NBackN == 1))",
      "6. eval(mc, parent.frame(1L))",
      "7. eval(mc, parent.frame(1L))",
      "8. lme4::lFormula(formula = NBackAccuracy ~ Flow + (1 | PId), data = df %>% \n .     filter(AdaptationStatus == 1, NBackN == 1), control = structure(list(\n .     optimizer = \"nloptwrap\", restart_edge = TRUE, boundary.tol = 1e-05, \n .     calc.derivs = TRUE, use.last.params = FALSE, checkControl = list(\n .         check.nobs.vs.rankZ = \"ignore\", check.nobs.vs.nlev = \"stop\", \n .         check.nlev.gtreq.5 = \"ignore\", check.nlev.gtr.1 = \"stop\", \n .         check.nobs.vs.nRE = \"stop\", check.rankX = \"message+drop.cols\", \n .         check.scaleX = \"warning\", check.formula.LHS = \"stop\"), \n .     checkConv = list(check.conv.grad = list(action = \"warning\", \n .         tol = 0.002, relTol = NULL), check.conv.singular = list(\n .         action = \"message\", tol = 1e-04), check.conv.hess = list(\n .         action = \"warning\", tol = 1e-06)), optCtrl = list()), class = c(\"lmerControl\", \n . \"merControl\")))",
      "9. checkNlevels(reTrms$flist, n = n, control)",
      "10. stop(wstr, call. = FALSE)"
     ]
    }
   ],
   "source": [
    "model <- lmer(NBackAccuracy ~ Flow + (1|PId), data= df%>%filter(AdaptationStatus==1, NBackN==1)) #to run the model\n",
    "summary(model)\n",
    "df1<-df%>%filter(AdaptationStatus==2, NBackN==1)#get adaptation values\n",
    "dfX<-as.data.frame(coef(model)[1])\n",
    "dfX$PId<-rownames(dfX)\n",
    "df1<-left_join(df1,dfX,by=\"PId\")\n",
    "#calculate expected values\n",
    "df1$intercept<-df1$PId..Intercept.\n",
    "df1$slope<-df1$PId.Flow\n",
    "df1$slopeNBackN<-df1$PId.NBackN\n",
    "df1$expected <- predict(model, df1%>%select(PId,Flow))\n",
    "df1$actual<-df1[,colnames(df1)==\"NBackAccuracy\"]#get actual\n",
    "\n",
    "model <- lmer(NBackAccuracy ~ Flow + (1|PId), data= df%>%filter(AdaptationStatus==1, NBackN==2)) #to run the model\n",
    "summary(model)\n",
    "df2<-df%>%filter(AdaptationStatus==2, NBackN==2)#get adaptation values\n",
    "dfX<-as.data.frame(coef(model)[1])\n",
    "dfX$PId<-rownames(dfX)\n",
    "df2<-left_join(df2,dfX,by=\"PId\")\n",
    "#calculate expected values\n",
    "df2$intercept<-df2$PId..Intercept.\n",
    "df2$slope<-df2$PId.Flow\n",
    "df2$slopeNBackN<-df2$PId.NBackN\n",
    "df2$expected <- predict(model, df2%>%select(PId,Flow))\n",
    "df2$actual<-df2[,colnames(df2)==\"NBackAccuracy\"]#get actual\n",
    "\n",
    "model <- lmer(NBackAccuracy ~ Flow + (1|PId), data= df%>%filter(AdaptationStatus==1, NBackN==3)) #to run the model\n",
    "summary(model)\n",
    "df3<-df%>%filter(AdaptationStatus==2, NBackN==3)#get adaptation values\n",
    "dfX<-as.data.frame(coef(model)[1])\n",
    "dfX$PId<-rownames(dfX)\n",
    "df3<-left_join(df3,dfX,by=\"PId\")\n",
    "df3$intercept<-df3$PId..Intercept.\n",
    "df3$slope<-df3$PId.Flow\n",
    "df3$slopeNBackN<-df3$PId.NBackN\n",
    "df3$expected <- predict(model, df3%>%select(PId,Flow))\n",
    "df3$actual<-df3[,colnames(df3)==\"NBackAccuracy\"]#get actual\n",
    "\n",
    "x <- rbind(df1, df2)\n",
    "x <- rbind(x, df3)"
   ]
  },
  {
   "cell_type": "markdown",
   "id": "69b3b51f",
   "metadata": {},
   "source": [
    "## Model for Random adaptation"
   ]
  },
  {
   "cell_type": "code",
   "execution_count": 21,
   "id": "f8c6a043",
   "metadata": {},
   "outputs": [
    {
     "name": "stdout",
     "output_type": "stream",
     "text": [
      "[1] 0.09832669\n",
      "[1] -1.805863\n"
     ]
    },
    {
     "ename": "ERROR",
     "evalue": "Error: number of levels of each grouping factor must be < number of observations (problems: PId)\n",
     "output_type": "error",
     "traceback": [
      "Error: number of levels of each grouping factor must be < number of observations (problems: PId)\nTraceback:\n",
      "1. lmer(EDATonic ~ Flow + NBackN + (1 | PId), data = df %>% filter(BlockNumber == \n .     4))",
      "2. eval.parent(mc)",
      "3. eval(expr, p)",
      "4. eval(expr, p)",
      "5. lme4::lmer(formula = EDATonic ~ Flow + NBackN + (1 | PId), data = df %>% \n .     filter(BlockNumber == 4))",
      "6. eval(mc, parent.frame(1L))",
      "7. eval(mc, parent.frame(1L))",
      "8. lme4::lFormula(formula = EDATonic ~ Flow + NBackN + (1 | PId), \n .     data = df %>% filter(BlockNumber == 4), control = structure(list(\n .         optimizer = \"nloptwrap\", restart_edge = TRUE, boundary.tol = 1e-05, \n .         calc.derivs = TRUE, use.last.params = FALSE, checkControl = list(\n .             check.nobs.vs.rankZ = \"ignore\", check.nobs.vs.nlev = \"stop\", \n .             check.nlev.gtreq.5 = \"ignore\", check.nlev.gtr.1 = \"stop\", \n .             check.nobs.vs.nRE = \"stop\", check.rankX = \"message+drop.cols\", \n .             check.scaleX = \"warning\", check.formula.LHS = \"stop\"), \n .         checkConv = list(check.conv.grad = list(action = \"warning\", \n .             tol = 0.002, relTol = NULL), check.conv.singular = list(\n .             action = \"message\", tol = 1e-04), check.conv.hess = list(\n .             action = \"warning\", tol = 1e-06)), optCtrl = list()), class = c(\"lmerControl\", \n .     \"merControl\")))",
      "9. checkNlevels(reTrms$flist, n = n, control)",
      "10. stop(wst2, call. = FALSE)"
     ]
    }
   ],
   "source": [
    "t_non<-data.frame(coef(summary(model)))[2,]$t.value\n",
    "p_non<-data.frame(coef(summary(model)))[2,]$Pr...t..\n",
    "print(p_non)\n",
    "print(t_non)\n",
    "\n",
    "model <- lmer(EDATonic ~ Flow + NBackN + (1|PId), data= df%>%filter(BlockNumber==4)) #to run the model for Random Adaptation\n",
    "summary(model)\n",
    "\n",
    "x<-df%>%filter(AdaptationStatus==2)#get adaptation values\n",
    "\n",
    "df_m<-as.data.frame(coef(model)[1])\n",
    "df_m$PId<-rownames(df_m)\n",
    "\n",
    "x<-left_join(x,df_m,by=\"PId\")\n",
    "\n",
    "#calculate expected values\n",
    "x$intercept<-x$PId..Intercept.\n",
    "x$slope<-x$PId.Flow\n",
    "x$slopeNBackN<-x$PId.NBackN\n",
    "x$slopelowNBackN<-x$PId.Flow.NBackN\n",
    "x$expected <- predict(model,df%>%filter(BlockNumber==4)%>%select(PId,NBackN,Flow))\n",
    "#x$expected <- x$intercept + x$slope * x$Flow + x$BackLevel * x$slopeBackLevel\n",
    "# + x$slopeBackLevel* x$slopelowBackLevel + x$slopeBackLevel* x$slopelowBackLevel\n",
    "x$actual<-x[,colnames(x)==var]#get actual"
   ]
  },
  {
   "cell_type": "code",
   "execution_count": null,
   "id": "5df343f6",
   "metadata": {},
   "outputs": [],
   "source": [
    "dfX <- gather(x, condition, measurement, expected:actual, factor_key=TRUE) #Run ANOVA on random adaptation\n",
    "ezANOVA(dfX, dv= measurement, wid = PId, within= condition, between = NBackN) "
   ]
  },
  {
   "cell_type": "code",
   "execution_count": null,
   "id": "bb94f665",
   "metadata": {},
   "outputs": [],
   "source": [
    "ggplot(x,aes(Flow,actual,group=PId,color=PId))+\n",
    "geom_line(alpha=.5)+\n",
    "geom_segment(data=x,aes(x = Flow, xend = Flow, y = actual, yend = expected),linetype=\"dashed\")+\n",
    "geom_point(data = x,aes(Flow,actual,color=PId),size=3)+\n",
    "geom_point(data = x,aes(Flow,expected,color=PId),shape=3,size=3)+\n",
    "apatheme+\n",
    "theme(legend.position=\"None\")+\n",
    "ylab(\"z-scores of Mean EDA\")+\n",
    "xlab(\"Stream\")+\n",
    "scale_x_continuous(breaks=(seq(20,130,by=20)))+ \n",
    "geom_abline(aes(color = PId, intercept = intercept, slope = slope))+\n",
    "facet_wrap(~NBackN)"
   ]
  }
 ],
 "metadata": {
  "kernelspec": {
   "display_name": "R",
   "language": "R",
   "name": "ir"
  },
  "language_info": {
   "codemirror_mode": "r",
   "file_extension": ".r",
   "mimetype": "text/x-r-source",
   "name": "R",
   "pygments_lexer": "r",
   "version": "4.2.0"
  }
 },
 "nbformat": 4,
 "nbformat_minor": 5
}
